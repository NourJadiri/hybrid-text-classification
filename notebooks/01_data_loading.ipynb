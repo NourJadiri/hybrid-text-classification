{
 "cells": [
  {
   "cell_type": "markdown",
   "id": "6e285d6a",
   "metadata": {},
   "source": [
    "# Data Loading and Label Mapping\n",
    "\n",
    "This notebook demonstrates how to load the annotation data and map narrative and subnarrative labels to their corresponding IDs using the provided taxonomy and helper functions."
   ]
  },
  {
   "cell_type": "code",
   "execution_count": null,
   "id": "ef6dc384",
   "metadata": {},
   "outputs": [],
   "source": [
    "# Add the project root to sys.path so we can import from src\n",
    "import sys\n",
    "import os\n",
    "sys.path.append(os.path.abspath(os.path.join(os.getcwd(), '..')))\n",
    "# Set the current working directory to the project root\n",
    "ROOT_DIR = os.path.abspath(os.path.join(os.getcwd(), '..'))\n",
    "os.chdir(ROOT_DIR)"
   ]
  },
  {
   "cell_type": "code",
   "execution_count": null,
   "id": "73fc9085",
   "metadata": {},
   "outputs": [],
   "source": [
    "import os\n",
    "from src.data_management.label_parser import parse_json_for_narratives_subnarratives, create_label_mappings\n",
    "from src.data_management.loaders import load_all_annotations_to_df, load_ids_to_df"
   ]
  },
  {
   "cell_type": "code",
   "execution_count": null,
   "id": "24b2dbfd",
   "metadata": {},
   "outputs": [],
   "source": [
    "print(os.getcwd())"
   ]
  },
  {
   "cell_type": "code",
   "execution_count": null,
   "id": "48d2903f",
   "metadata": {},
   "outputs": [],
   "source": [
    "# Define the path to the taxonomy JSON file\n",
    "taxonomy_path = os.path.join('data', 'taxonomy.json')\n",
    "\n",
    "# Parse narratives and subnarratives from the taxonomy\n",
    "narratives, subnarratives = parse_json_for_narratives_subnarratives(taxonomy_path)\n",
    "\n",
    "# Create label mappings\n",
    "label_to_id, id_to_label, narrative_to_subnarrative_ids = create_label_mappings(narratives, subnarratives)"
   ]
  },
  {
   "cell_type": "code",
   "execution_count": null,
   "id": "da844fb5",
   "metadata": {},
   "outputs": [],
   "source": [
    "import networkx as nx\n",
    "import matplotlib.pyplot as plt\n",
    "\n",
    "# Create a directed graph for only two narratives and their subnarratives\n",
    "G = nx.DiGraph()\n",
    "\n",
    "# Select only the first two narratives\n",
    "selected_narrative_ids = list(narrative_to_subnarrative_ids.keys())[:2]\n",
    "for narrative_id in selected_narrative_ids:\n",
    "    # Truncate narrative label to short name (remove prefix before colon, if any)\n",
    "    narrative_label = id_to_label[narrative_id]\n",
    "    short_narrative_label = narrative_label.split(\":\")[-1].strip() if \":\" in narrative_label else narrative_label\n",
    "    G.add_node(short_narrative_label)\n",
    "    for sub_id in narrative_to_subnarrative_ids[narrative_id]:\n",
    "        sub_label = id_to_label[sub_id]\n",
    "        short_sub_label = sub_label.split(\":\")[-1].strip() if \":\" in sub_label else sub_label\n",
    "        G.add_node(short_sub_label)\n",
    "        G.add_edge(short_narrative_label, short_sub_label)\n",
    "\n",
    "# Draw the graph using a hierarchical layout\n",
    "plt.figure(figsize=(12, 8))\n",
    "pos = nx.nx_agraph.graphviz_layout(G, prog='dot')\n",
    "nx.draw(G, pos, with_labels=True, arrows=False, node_size=2000, font_size=8, node_color='lightblue')\n",
    "plt.title(\"Snapshot: Two Narratives and Their Subnarratives\")\n",
    "plt.tight_layout()\n",
    "plt.show()"
   ]
  },
  {
   "cell_type": "code",
   "execution_count": null,
   "id": "304bdf55",
   "metadata": {},
   "outputs": [],
   "source": [
    "# Load all annotation data into a DataFrame\n",
    "annotations_df = load_all_annotations_to_df()\n",
    "\n",
    "# Display the first few rows\n",
    "annotations_df.head()"
   ]
  },
  {
   "cell_type": "code",
   "execution_count": null,
   "id": "99164289",
   "metadata": {},
   "outputs": [],
   "source": [
    "# Map narrative and subnarrative labels to their corresponding IDs\n",
    "annotations_with_ids = load_ids_to_df(annotations_df, label_to_id)\n",
    "\n",
    "# Display the first few rows with IDs\n",
    "annotations_with_ids.head()"
   ]
  },
  {
   "cell_type": "code",
   "execution_count": null,
   "id": "25db3783",
   "metadata": {},
   "outputs": [],
   "source": [
    "# Save the annotations_df DataFrame to a parquet file\n",
    "output_path = os.path.join('data', 'processed', 'phase0_baseline.parquet')\n",
    "annotations_df.to_parquet(output_path, index=False)"
   ]
  }
 ],
 "metadata": {
  "kernelspec": {
   "display_name": ".venv",
   "language": "python",
   "name": "python3"
  },
  "language_info": {
   "codemirror_mode": {
    "name": "ipython",
    "version": 3
   },
   "file_extension": ".py",
   "mimetype": "text/x-python",
   "name": "python",
   "nbconvert_exporter": "python",
   "pygments_lexer": "ipython3",
   "version": "3.12.3"
  }
 },
 "nbformat": 4,
 "nbformat_minor": 5
}
