{
 "cells": [
  {
   "cell_type": "code",
   "execution_count": 1,
   "id": "5a8f1367",
   "metadata": {},
   "outputs": [],
   "source": [
    "import pandas as pd\n",
    "import os\n",
    "import sys\n",
    "import numpy as np\n",
    "\n",
    "sys.path.append(os.path.abspath(os.path.join(os.getcwd(), '..')))\n",
    "# Set the current working directory to the project root\n",
    "ROOT_DIR = os.path.abspath(os.path.join(os.getcwd(), '..'))\n",
    "os.chdir(ROOT_DIR)"
   ]
  },
  {
   "cell_type": "code",
   "execution_count": 2,
   "id": "d88bec66",
   "metadata": {},
   "outputs": [
    {
     "data": {
      "application/vnd.microsoft.datawrangler.viewer.v0+json": {
       "columns": [
        {
         "name": "index",
         "rawType": "int64",
         "type": "integer"
        },
        {
         "name": "id",
         "rawType": "object",
         "type": "string"
        },
        {
         "name": "text",
         "rawType": "object",
         "type": "string"
        },
        {
         "name": "narratives",
         "rawType": "object",
         "type": "unknown"
        },
        {
         "name": "subnarratives",
         "rawType": "object",
         "type": "unknown"
        },
        {
         "name": "language",
         "rawType": "object",
         "type": "string"
        },
        {
         "name": "narrative_ids",
         "rawType": "object",
         "type": "unknown"
        },
        {
         "name": "subnarrative_ids",
         "rawType": "object",
         "type": "unknown"
        },
        {
         "name": "num_narratives",
         "rawType": "int64",
         "type": "integer"
        },
        {
         "name": "num_subnarratives",
         "rawType": "int64",
         "type": "integer"
        },
        {
         "name": "word_count",
         "rawType": "int64",
         "type": "integer"
        },
        {
         "name": "word_count_bin",
         "rawType": "category",
         "type": "unknown"
        },
        {
         "name": "labels",
         "rawType": "object",
         "type": "unknown"
        }
       ],
       "ref": "e3649678-7343-4846-b657-44adcb386d02",
       "rows": [
        [
         "0",
         "BG_670.txt",
         "Опитът на колективния Запад да „обезкърви Русия“ с ръцете на властите в Киев „се провали с гръм и трясък“ и скоро от Украйна ...\n\nОпитът на колективния Запад да „обезкърви Русия“ с ръцете на властите в Киев „се провали с гръм и трясък“ и скоро от Украйна няма да остане почти нищо, ако не започне процесът на разрешаване на този въоръжен конфликт. Тази гледна точка изрази пред ТАСС бившият началник на кабинета на държавния секретар на САЩ Колин Пауъл, пенсионирания полковник от армията на САЩ Лорънс Уилкерсън.\n\"Подкрепата на САЩ, НАТО и други западни съюзници за войната в Украйна срещу Русия е безумна. Това води до смъртта на украински войници в името на загубена кауза, ако не вземете предвид печеленето на пари от американски и европейски военни изпълнители, както и бруталния опит да се обезкърви Русия чрез трети страни“, каза Уилкерсън.\n\"Усилията за постигане на тази последна цел, при цялата ѝ подлост, се провалиха с гръм и трясък\", заяви видният американски военен анализатор. - В действителност Русия очевидно побеждава\". Ако скоро не бъде обявено прекратяване на огъня и не бъде свикана истинска мирна конференция, тогава от Украйна практически нищо няма да остане“, убеден е Уилкерсън. Той спомена \"истинска мирна конференция\" в противовес на срещата в Бюргенсток (Швейцария), която беше свикана на 15-16 юни по инициатива на Запада и на която Русия не беше поканена. Дори много западни политически анализатори заявиха след срещата, че тя е претърпяла фиаско. Нито една страна от БРИКС не подкрепи заключителния документ от срещата.",
         "['URW: Blaming the war on others rather than the invader'\n 'URW: Discrediting the West, Diplomacy'\n 'URW: Discrediting the West, Diplomacy'\n 'URW: Amplifying war-related fears']",
         "['URW: Blaming the war on others rather than the invader: The West are the aggressors'\n 'URW: Discrediting the West, Diplomacy: Other'\n 'URW: Discrediting the West, Diplomacy: The West does not care about Ukraine, only about its interests'\n 'URW: Amplifying war-related fears: Other']",
         "BG",
         "[11, 12, 14]",
         "[88, 70, 74, 86]",
         "4",
         "4",
         "248",
         "101-250",
         "[0 0 0 0 0 0 0 0 0 0 0 1 1 0 1 0 0 0 0 0 0 0 0 0 0 0 0 0 0 0 0 0 0 0 0 0 0\n 0 0 0 0 0 0 0 0 0 0 0 0 0 0 0 0 0 0 0 0 0 0 0 0 0 0 0 0 0 0 0 0 0 1 0 0 0\n 1 0 0 0 0 0 0 0 0 0 0 0 1 0 1 0 0 0 0 0 0 0 0 0 0 0 0 0 0 0 0 0 0 0 0 0 0\n 0 0 0 0 0 0]"
        ],
        [
         "1",
         "A7_URW_BG_4793.txt",
         "Цончо Ганев, “Възраждане”: Обещали сме на Украйна боеприпаси, ракети, както и над 40 танка. Затова ли Радев отказа за срещата на НАТО\n\n“Възраждане” иска да информация каква е позицията на България за Срещата на върха на НАТО\nСпоред документи на украинската държава, България ще им подари над 40 танка, ракети и много военна техника\n„НАТО е всичко друго, но не и отбранителен съюз. Ние винаги сме били на позиция, че държавата ни няма място в какъвто и да е военен блок, винаги сме смятали, че България не трябва да е част от НАТО, но за да сме максимално демократични, нашата позиция е, че българският народ трябва да се произнесе и трябва да има референдум дали да сме член на НАТО или не.“, каза от трибуната на Народното събрание заместник-председателят на „Възраждане“ Цончо Ганев в декларация прочетена от парламентарната група.\nСпоред него, Съединените американски щати може и да провеждат мироопазващи военни операции, например в Сирия, Ирак, Афганистан и в ред други държави, но по съвсем консервативни данни през последните 70 години жертвите в техни мироопазващи военни операции са повече от 40 милиона души.\n„Ако вземем за пример специалната военна операция, ще видим, че от една страна е Русия, от друга - Украйна, която разчита на издръжката и подкрепата на НАТО, от което България също е част. За да е пълна подигравката, още когато започна тази специална военна операция, тогавашното правителство на Кирил Петков, Атанасов, Христо Иванов. Слави Трифонов и Корнелия Нинова, започна да продава оръжия през посредници до украинската граница. Стигнахме дотам, че следващите наши правителства вече подаряваха оръжие, включително и служебните правителства на Радев, които опразниха част от складовете ни с военна техника.“, коментира още Ганев.\nСпоред официална информация, която излиза, е видно, че към днешна дата този военен конфликт върви към развръзка и това вече не се крие дори от държавите членки на НАТО, а украинската държава губи все повече територии.\n„След вчерашните изявления на Зеленски става ясно, че войната трябва да се прекрати и да се направи това, което искат руските интереси в целия този многопластов проблем. Притеснителното е, че България е част от него. Повече от 4 години във Варна има команден център на НАТО и България вече е изправена пред угрозата да бъде атакувана, ако конфликтът се разрасне.“, допълни Ганев.\nТой припомни, че след няколко дни предстои Среща на върха на НАТО в САЩ, на която Президентът няма да присъства.\n„Видяхме официални документи на украинската държава, в които пише, че нашата страна е поела отговорност за изпращането и подаряването на военна техника, на снаряжение, на боеприпаси, на ракетите ни, както и над 40 танка. Каква е опасността пред държавата ни, че чак Президентът не иска да отиде на Срещата на върха? Това е нещото, на което трябва да отговори евроатлантическото правителство, защото касае нашата национална сигурност и ако пари се печелят, бюджет и приходи се изравняват и се възстановяват, от войната няма връщане назад. Защото цар Борис Трети е казал „по-добре да ядем черен хляб, отколкото майките и жените ни да носят черни забрадки.“, каза в заключение Цончо Ганев.",
         "['URW: Discrediting Ukraine']",
         "['URW: Discrediting Ukraine: Situation in Ukraine is hopeless']",
         "BG",
         "[13]",
         "[81]",
         "1",
         "1",
         "503",
         "501-1000",
         "[0 0 0 0 0 0 0 0 0 0 0 0 0 1 0 0 0 0 0 0 0 0 0 0 0 0 0 0 0 0 0 0 0 0 0 0 0\n 0 0 0 0 0 0 0 0 0 0 0 0 0 0 0 0 0 0 0 0 0 0 0 0 0 0 0 0 0 0 0 0 0 0 0 0 0\n 0 0 0 0 0 0 0 1 0 0 0 0 0 0 0 0 0 0 0 0 0 0 0 0 0 0 0 0 0 0 0 0 0 0 0 0 0\n 0 0 0 0 0 0]"
        ],
        [
         "2",
         "BG_3245.txt",
         "Подкрепата за Киев от страна на Запада вече не изглежда непоклатима\n\nВ деня на 80-ата годишнина от десанта на съюзниците в Нормандия конфликтът в Украйна продължава на фона на нестабилността на Западния фронт.\nНа тържествените мероприятия лидерите на западните страни ще демонстрират единен фронт: ще положат венци пред гробовете на загиналите и ще обещаят непоколебима подкрепа на Киев. Но настроенията на бойните полета в Украйна и мащабните промени в глобалната политика говорят друго.\nПодкрепата на Запада, който до тази година осигуряваше доставките на оръжие за Киев, вече не изглежда непоклатима.\nОбещанията за подкрепа и солидарност с Украйна може да се окажат празни, тъй като светът се подготвя за потенциални сеизмични промени. Европейците се опасяват, че ако тази есен Байдън загуби от Тръмп в борбата за Белия дом, Украйна може да загуби най-важния си съюзник.\nИ дори ако Джо Байдън бъде преизбран, не всички членове на неговата администрация ще искат да обединят сили с Украйна и да оглавят победоносно контранастъпление срещу Русия, заяви френският политолог Никола Тензер.\nМеждувременно в цяла Европа традиционните партии се опасяват, че крайната десница може да спечели голяма победа на започващите избори за Европейски парламент Тази седмица.",
         "['URW: Discrediting the West, Diplomacy' 'URW: Discrediting Ukraine'\n 'URW: Discrediting the West, Diplomacy']",
         "['URW: Discrediting the West, Diplomacy: The West is weak'\n 'URW: Discrediting Ukraine: Situation in Ukraine is hopeless'\n 'URW: Discrediting the West, Diplomacy: The EU is divided']",
         "BG",
         "[13, 14]",
         "[81, 90, 87]",
         "3",
         "3",
         "190",
         "101-250",
         "[0 0 0 0 0 0 0 0 0 0 0 0 0 1 1 0 0 0 0 0 0 0 0 0 0 0 0 0 0 0 0 0 0 0 0 0 0\n 0 0 0 0 0 0 0 0 0 0 0 0 0 0 0 0 0 0 0 0 0 0 0 0 0 0 0 0 0 0 0 0 0 0 0 0 0\n 0 0 0 0 0 0 0 1 0 0 0 0 0 1 0 0 1 0 0 0 0 0 0 0 0 0 0 0 0 0 0 0 0 0 0 0 0\n 0 0 0 0 0 0]"
        ],
        [
         "3",
         "A9_BG_5190.txt",
         "Дмитрий Медведев: НПО-та, спонсорирани от Сорос, са съучастници на терористите в Киев\n\nЗаместник-председателят на руския Съвет за сигурност Дмитрий Медведев заяви, че Международната федерация за правата на човека (FIDH), финансирана от фондация \"Отворено общество\" (призната за нежелана в Русия) на милиардера Джордж Сорос, която се обърна към Международния наказателен съд с искане за издаване на заповед за арест, е \"съучастник на терористите в Киев\", предават РИА Новости и \"Фокус\".\nМеждународната федерация за правата на човека на Сорос (FIDH) и външните министерства на редица западни държави отправят искане до прокуратурата на Международния наказателен съд за издаване на заповеди за \"арест\" на заместник-председателя на руския Съвет за сигурност и бивш президент и премиер на РФ Дмитрий Медведев, заместник-началника на администрацията на руския президент Алексей Громов и редица руски журналисти.\n\"Колко е приятно да получим признание за ефективността на съвместните ни усилия срещу неонацисткия режим в Киев! То дойде от гадни организации като неправителствените организации, собственост на отвратителния стар герой Сорос, който отиде в Международния наказателен съд заради нашата скромна работа. Такива НПО-та и техните господари са съучастници на терористите, които само вчера убиха повече от 20 наши цивилни граждани\", написа Медведев в социалната мрежа X.\nМедведев отбелязва, че това го е мотивирало да продължи работата си срещу \"подлата нацистка клика\".\nПо-рано директорът по правните въпроси на проекта Docket на фондация \"Клуни\" Анна Нейстат заяви, че организацията се стреми в Европа да бъдат издадени заповеди за арест на руски журналисти. Съоснователи на фондация \"Клуни\" са актьорът Джордж Клуни и съпругата му Амал.\nКакто самият Джордж Клуни обясни по-късно, фондацията \"се е изразила погрешно\" и организацията, която има \"дълга история на защита на журналисти, никога няма да ги преследва\".",
         "['URW: Discrediting the West, Diplomacy' 'URW: Discrediting Ukraine']",
         "['URW: Discrediting the West, Diplomacy: Other'\n 'URW: Discrediting Ukraine: Ukraine is associated with nazism']",
         "BG",
         "[13, 14]",
         "[84, 86]",
         "2",
         "2",
         "275",
         "251-500",
         "[0 0 0 0 0 0 0 0 0 0 0 0 0 1 1 0 0 0 0 0 0 0 0 0 0 0 0 0 0 0 0 0 0 0 0 0 0\n 0 0 0 0 0 0 0 0 0 0 0 0 0 0 0 0 0 0 0 0 0 0 0 0 0 0 0 0 0 0 0 0 0 0 0 0 0\n 0 0 0 0 0 0 0 0 0 0 1 0 1 0 0 0 0 0 0 0 0 0 0 0 0 0 0 0 0 0 0 0 0 0 0 0 0\n 0 0 0 0 0 0]"
        ],
        [
         "4",
         "A9_BG_3379.txt",
         "Британски дипломат обвини Запада за украинския конфликт — Responsible Statecraft\n\nБритански дипломат обвини Запада за украинския конфликт — Responsible Statecraft\nВ условията на трескаво лобиране от страна на Запада за изостряне на конфликта, много липсват гласовете на разума и на несъгласните с опосредстваната война на НАТО с Русия в Украйна, пише Responsible Statecraft. Но ги има. Сред тях е бившият икономически съветник на британското посолство в Москва Иън Прауд.\nВ книгата си \"Неудачникът в Москва: Как се провали британската дипломация в Русия?\" Прауд разказва, че след началото на украинската криза през 2014 г.за Лондон стана самоцел да накаже Русия с помощта на санкции и изолация. Прауд предупреждавал, че санкциите само ще вдъхновят Русия да се стреми към самодостатъчност. Обаче не го послушаха.\nТой беше особено впечатлен от това как Москва се справи с нестабилността, причинена от комбинация от западни санкции и намаляване на цените на енергията. А към момента на началото на СВО Русия вече можеше да сдържа опитите на западните страни да дестабилизират рублата и да сринат руската икономика.\nПрауд каза, че Лондон е допринесъл за провала на Минските споразумения, когато е убедил Европейския съвет да се съгласи, че санкциите срещу Русия няма да бъдат отменени до пълното изпълнение на споразуменията. Това даде на Киев допълнителен стимул да саботира тяхното спазване. Но Москва, за разлика от Киев, беше наистина заинтересована от изпълнението на споразуменията. Освен това Русия беше единствената страна по тези споразумения, която действаше добросъвестно.",
         "['URW: Discrediting the West, Diplomacy' 'URW: Praise of Russia']",
         "['URW: Discrediting the West, Diplomacy: Other'\n 'URW: Praise of Russia: Other']",
         "BG",
         "[19, 14]",
         "[86, 103]",
         "2",
         "2",
         "237",
         "101-250",
         "[0 0 0 0 0 0 0 0 0 0 0 0 0 0 1 0 0 0 0 1 0 0 0 0 0 0 0 0 0 0 0 0 0 0 0 0 0\n 0 0 0 0 0 0 0 0 0 0 0 0 0 0 0 0 0 0 0 0 0 0 0 0 0 0 0 0 0 0 0 0 0 0 0 0 0\n 0 0 0 0 0 0 0 0 0 0 0 0 1 0 0 0 0 0 0 0 0 0 0 0 0 0 0 0 0 1 0 0 0 0 0 0 0\n 0 0 0 0 0 0]"
        ]
       ],
       "shape": {
        "columns": 12,
        "rows": 5
       }
      },
      "text/html": [
       "<div>\n",
       "<style scoped>\n",
       "    .dataframe tbody tr th:only-of-type {\n",
       "        vertical-align: middle;\n",
       "    }\n",
       "\n",
       "    .dataframe tbody tr th {\n",
       "        vertical-align: top;\n",
       "    }\n",
       "\n",
       "    .dataframe thead th {\n",
       "        text-align: right;\n",
       "    }\n",
       "</style>\n",
       "<table border=\"1\" class=\"dataframe\">\n",
       "  <thead>\n",
       "    <tr style=\"text-align: right;\">\n",
       "      <th></th>\n",
       "      <th>id</th>\n",
       "      <th>text</th>\n",
       "      <th>narratives</th>\n",
       "      <th>subnarratives</th>\n",
       "      <th>language</th>\n",
       "      <th>narrative_ids</th>\n",
       "      <th>subnarrative_ids</th>\n",
       "      <th>num_narratives</th>\n",
       "      <th>num_subnarratives</th>\n",
       "      <th>word_count</th>\n",
       "      <th>word_count_bin</th>\n",
       "      <th>labels</th>\n",
       "    </tr>\n",
       "  </thead>\n",
       "  <tbody>\n",
       "    <tr>\n",
       "      <th>0</th>\n",
       "      <td>BG_670.txt</td>\n",
       "      <td>Опитът на колективния Запад да „обезкърви Руси...</td>\n",
       "      <td>[URW: Blaming the war on others rather than th...</td>\n",
       "      <td>[URW: Blaming the war on others rather than th...</td>\n",
       "      <td>BG</td>\n",
       "      <td>[11, 12, 14]</td>\n",
       "      <td>[88, 70, 74, 86]</td>\n",
       "      <td>4</td>\n",
       "      <td>4</td>\n",
       "      <td>248</td>\n",
       "      <td>101-250</td>\n",
       "      <td>[0, 0, 0, 0, 0, 0, 0, 0, 0, 0, 0, 1, 1, 0, 1, ...</td>\n",
       "    </tr>\n",
       "    <tr>\n",
       "      <th>1</th>\n",
       "      <td>A7_URW_BG_4793.txt</td>\n",
       "      <td>Цончо Ганев, “Възраждане”: Обещали сме на Укра...</td>\n",
       "      <td>[URW: Discrediting Ukraine]</td>\n",
       "      <td>[URW: Discrediting Ukraine: Situation in Ukrai...</td>\n",
       "      <td>BG</td>\n",
       "      <td>[13]</td>\n",
       "      <td>[81]</td>\n",
       "      <td>1</td>\n",
       "      <td>1</td>\n",
       "      <td>503</td>\n",
       "      <td>501-1000</td>\n",
       "      <td>[0, 0, 0, 0, 0, 0, 0, 0, 0, 0, 0, 0, 0, 1, 0, ...</td>\n",
       "    </tr>\n",
       "    <tr>\n",
       "      <th>2</th>\n",
       "      <td>BG_3245.txt</td>\n",
       "      <td>Подкрепата за Киев от страна на Запада вече не...</td>\n",
       "      <td>[URW: Discrediting the West, Diplomacy, URW: D...</td>\n",
       "      <td>[URW: Discrediting the West, Diplomacy: The We...</td>\n",
       "      <td>BG</td>\n",
       "      <td>[13, 14]</td>\n",
       "      <td>[81, 90, 87]</td>\n",
       "      <td>3</td>\n",
       "      <td>3</td>\n",
       "      <td>190</td>\n",
       "      <td>101-250</td>\n",
       "      <td>[0, 0, 0, 0, 0, 0, 0, 0, 0, 0, 0, 0, 0, 1, 1, ...</td>\n",
       "    </tr>\n",
       "    <tr>\n",
       "      <th>3</th>\n",
       "      <td>A9_BG_5190.txt</td>\n",
       "      <td>Дмитрий Медведев: НПО-та, спонсорирани от Соро...</td>\n",
       "      <td>[URW: Discrediting the West, Diplomacy, URW: D...</td>\n",
       "      <td>[URW: Discrediting the West, Diplomacy: Other,...</td>\n",
       "      <td>BG</td>\n",
       "      <td>[13, 14]</td>\n",
       "      <td>[84, 86]</td>\n",
       "      <td>2</td>\n",
       "      <td>2</td>\n",
       "      <td>275</td>\n",
       "      <td>251-500</td>\n",
       "      <td>[0, 0, 0, 0, 0, 0, 0, 0, 0, 0, 0, 0, 0, 1, 1, ...</td>\n",
       "    </tr>\n",
       "    <tr>\n",
       "      <th>4</th>\n",
       "      <td>A9_BG_3379.txt</td>\n",
       "      <td>Британски дипломат обвини Запада за украинския...</td>\n",
       "      <td>[URW: Discrediting the West, Diplomacy, URW: P...</td>\n",
       "      <td>[URW: Discrediting the West, Diplomacy: Other,...</td>\n",
       "      <td>BG</td>\n",
       "      <td>[19, 14]</td>\n",
       "      <td>[86, 103]</td>\n",
       "      <td>2</td>\n",
       "      <td>2</td>\n",
       "      <td>237</td>\n",
       "      <td>101-250</td>\n",
       "      <td>[0, 0, 0, 0, 0, 0, 0, 0, 0, 0, 0, 0, 0, 0, 1, ...</td>\n",
       "    </tr>\n",
       "  </tbody>\n",
       "</table>\n",
       "</div>"
      ],
      "text/plain": [
       "                   id                                               text  \\\n",
       "0          BG_670.txt  Опитът на колективния Запад да „обезкърви Руси...   \n",
       "1  A7_URW_BG_4793.txt  Цончо Ганев, “Възраждане”: Обещали сме на Укра...   \n",
       "2         BG_3245.txt  Подкрепата за Киев от страна на Запада вече не...   \n",
       "3      A9_BG_5190.txt  Дмитрий Медведев: НПО-та, спонсорирани от Соро...   \n",
       "4      A9_BG_3379.txt  Британски дипломат обвини Запада за украинския...   \n",
       "\n",
       "                                          narratives  \\\n",
       "0  [URW: Blaming the war on others rather than th...   \n",
       "1                        [URW: Discrediting Ukraine]   \n",
       "2  [URW: Discrediting the West, Diplomacy, URW: D...   \n",
       "3  [URW: Discrediting the West, Diplomacy, URW: D...   \n",
       "4  [URW: Discrediting the West, Diplomacy, URW: P...   \n",
       "\n",
       "                                       subnarratives language narrative_ids  \\\n",
       "0  [URW: Blaming the war on others rather than th...       BG  [11, 12, 14]   \n",
       "1  [URW: Discrediting Ukraine: Situation in Ukrai...       BG          [13]   \n",
       "2  [URW: Discrediting the West, Diplomacy: The We...       BG      [13, 14]   \n",
       "3  [URW: Discrediting the West, Diplomacy: Other,...       BG      [13, 14]   \n",
       "4  [URW: Discrediting the West, Diplomacy: Other,...       BG      [19, 14]   \n",
       "\n",
       "   subnarrative_ids  num_narratives  num_subnarratives  word_count  \\\n",
       "0  [88, 70, 74, 86]               4                  4         248   \n",
       "1              [81]               1                  1         503   \n",
       "2      [81, 90, 87]               3                  3         190   \n",
       "3          [84, 86]               2                  2         275   \n",
       "4         [86, 103]               2                  2         237   \n",
       "\n",
       "  word_count_bin                                             labels  \n",
       "0        101-250  [0, 0, 0, 0, 0, 0, 0, 0, 0, 0, 0, 1, 1, 0, 1, ...  \n",
       "1       501-1000  [0, 0, 0, 0, 0, 0, 0, 0, 0, 0, 0, 0, 0, 1, 0, ...  \n",
       "2        101-250  [0, 0, 0, 0, 0, 0, 0, 0, 0, 0, 0, 0, 0, 1, 1, ...  \n",
       "3        251-500  [0, 0, 0, 0, 0, 0, 0, 0, 0, 0, 0, 0, 0, 1, 1, ...  \n",
       "4        101-250  [0, 0, 0, 0, 0, 0, 0, 0, 0, 0, 0, 0, 0, 0, 1, ...  "
      ]
     },
     "execution_count": 2,
     "metadata": {},
     "output_type": "execute_result"
    }
   ],
   "source": [
    "from src.data_management.loaders import load_labeled_df\n",
    "\n",
    "df = load_labeled_df('phase0_baseline_labeled.parquet')\n",
    "df.head()"
   ]
  },
  {
   "cell_type": "code",
   "execution_count": 3,
   "id": "240f6ab6",
   "metadata": {},
   "outputs": [
    {
     "name": "stdout",
     "output_type": "stream",
     "text": [
      "Original dataset shape: (1699, 12)\n",
      "Train set shape: (1000, 12)\n",
      "Validation set shape: (334, 12)\n",
      "Test set shape: (365, 12)\n",
      "\n",
      "Example of train_df head:\n",
      "                    id                                               text  \\\n",
      "1   A7_URW_BG_4793.txt  Цончо Ганев, “Възраждане”: Обещали сме на Укра...   \n",
      "6           BG_855.txt  Русия забрани разпространението на десетки мед...   \n",
      "7           BG_751.txt  US военен: Путин ни изигра така, както Рейгън ...   \n",
      "11      A9_BG_3298.txt  Обан се присмя на идеята на САЩ да отпуснат но...   \n",
      "23  A7_URW_BG_3808.txt  Посланик Барбин: датските депутати са обсебени...   \n",
      "\n",
      "                                           narratives  \\\n",
      "1                         [URW: Discrediting Ukraine]   \n",
      "6   [URW: Distrust towards Media, URW: Distrust to...   \n",
      "7   [URW: Praise of Russia, URW: Discrediting Ukra...   \n",
      "11  [URW: Discrediting the West, Diplomacy, URW: D...   \n",
      "23                [URW: Amplifying war-related fears]   \n",
      "\n",
      "                                        subnarratives language narrative_ids  \\\n",
      "1   [URW: Discrediting Ukraine: Situation in Ukrai...       BG          [13]   \n",
      "6   [URW: Distrust towards Media: Other, URW: Dist...       BG      [20, 15]   \n",
      "7   [URW: Praise of Russia: Praise of Russian Pres...       BG  [19, 12, 13]   \n",
      "11  [URW: Discrediting the West, Diplomacy: Other,...       BG          [14]   \n",
      "23  [URW: Amplifying war-related fears: By continu...       BG          [11]   \n",
      "\n",
      "   subnarrative_ids  num_narratives  num_subnarratives  word_count  \\\n",
      "1              [81]               1                  1         503   \n",
      "6     [92, 109, 94]               3                  3         339   \n",
      "7     [104, 74, 83]               3                  3         493   \n",
      "11     [88, 86, 87]               3                  3         196   \n",
      "23             [68]               1                  1         454   \n",
      "\n",
      "   word_count_bin                                             labels  \n",
      "1        501-1000  [0, 0, 0, 0, 0, 0, 0, 0, 0, 0, 0, 0, 0, 1, 0, ...  \n",
      "6         251-500  [0, 0, 0, 0, 0, 0, 0, 0, 0, 0, 0, 0, 0, 0, 0, ...  \n",
      "7         251-500  [0, 0, 0, 0, 0, 0, 0, 0, 0, 0, 0, 0, 1, 1, 0, ...  \n",
      "11        101-250  [0, 0, 0, 0, 0, 0, 0, 0, 0, 0, 0, 0, 0, 0, 1, ...  \n",
      "23        251-500  [0, 0, 0, 0, 0, 0, 0, 0, 0, 0, 0, 1, 0, 0, 0, ...  \n"
     ]
    }
   ],
   "source": [
    "from skmultilearn.model_selection import iterative_train_test_split\n",
    "\n",
    "# Split the dataset into training and testing sets\n",
    "X = df.index.to_numpy().reshape(-1, 1)\n",
    "y = np.array(df['labels'].tolist())\n",
    "\n",
    "train_val_indices, y_train_val, test_indices, y_test = iterative_train_test_split(X, y, test_size = 0.2)\n",
    "\n",
    "\n",
    "train_indices, y_train, val_indices, y_val = iterative_train_test_split(train_val_indices, y_train_val, test_size = 0.25)\n",
    "\n",
    "train_df = df.loc[train_indices.flatten()]\n",
    "val_df = df.loc[val_indices.flatten()]\n",
    "test_df = df.loc[test_indices.flatten()]\n",
    "\n",
    "\n",
    "# 5. Verify the results\n",
    "print(\"Original dataset shape:\", df.shape)\n",
    "print(\"Train set shape:\", train_df.shape)\n",
    "print(\"Validation set shape:\", val_df.shape)\n",
    "print(\"Test set shape:\", test_df.shape)\n",
    "\n",
    "print(\"\\nExample of train_df head:\")\n",
    "print(train_df.head())"
   ]
  },
  {
   "cell_type": "code",
   "execution_count": 4,
   "id": "8687ddc9",
   "metadata": {},
   "outputs": [],
   "source": [
    "import torch\n",
    "\n",
    "\n",
    "all_labels = np.array(train_df['labels'].tolist())\n",
    "\n",
    "num_positives = np.sum(all_labels)\n",
    "num_negatives = all_labels.size - num_positives\n",
    "\n",
    "# Calculate the weight\n",
    "pos_weight = num_negatives / num_positives"
   ]
  },
  {
   "cell_type": "code",
   "execution_count": 5,
   "id": "1151d08f",
   "metadata": {},
   "outputs": [],
   "source": [
    "from src.data_management.label_parser import get_label_mappings\n",
    "\n",
    "label_to_id, id_to_label, narrative_to_subnarrative_ids = get_label_mappings()\n",
    "sub_to_narr_id_map = {}\n",
    "\n",
    "# Create a mapping from sub-narrative IDs to their parent narrative IDs\n",
    "for narr_id, sub_ids_list in narrative_to_subnarrative_ids.items():\n",
    "    for sub_id in sub_ids_list:\n",
    "        sub_to_narr_id_map[sub_id] = narr_id\n",
    "\n",
    "# This gives you a map like: { sub_id_A: narr_id_1, sub_id_B: narr_id_1, ... }\n",
    "# It's useful to also have a simple list of all parent-child ID pairs\n",
    "parent_child_pairs = list(sub_to_narr_id_map.items())"
   ]
  },
  {
   "cell_type": "code",
   "execution_count": 6,
   "id": "35ccbda0",
   "metadata": {},
   "outputs": [
    {
     "name": "stdout",
     "output_type": "stream",
     "text": [
      "Configuration set.\n"
     ]
    }
   ],
   "source": [
    "MODEL_NAME = \"xlm-roberta-base\"\n",
    "EPOCHS = 20  # Set a high number; early stopping will handle it\n",
    "BATCH_SIZE = 16\n",
    "LEARNING_RATE = 2e-5\n",
    "H_LAMBDA = 2.0\n",
    "PATIENCE = 3\n",
    "MODEL_OUTPUT_PATH = \"models/phase0_xlmr_best_model.bin\"\n",
    "\n",
    "print(\"Configuration set.\")"
   ]
  },
  {
   "cell_type": "code",
   "execution_count": 7,
   "id": "02b85d98",
   "metadata": {},
   "outputs": [
    {
     "name": "stderr",
     "output_type": "stream",
     "text": [
      "/home/twoface/Documents/Passau/masterarbeit/hybrid-text-classification/.venv/lib/python3.12/site-packages/tqdm/auto.py:21: TqdmWarning: IProgress not found. Please update jupyter and ipywidgets. See https://ipywidgets.readthedocs.io/en/stable/user_install.html\n",
      "  from .autonotebook import tqdm as notebook_tqdm\n"
     ]
    },
    {
     "name": "stdout",
     "output_type": "stream",
     "text": [
      "Using device: cuda\n"
     ]
    },
    {
     "name": "stderr",
     "output_type": "stream",
     "text": [
      "Some weights of XLMRobertaForSequenceClassification were not initialized from the model checkpoint at xlm-roberta-base and are newly initialized: ['classifier.dense.bias', 'classifier.dense.weight', 'classifier.out_proj.bias', 'classifier.out_proj.weight']\n",
      "You should probably TRAIN this model on a down-stream task to be able to use it for predictions and inference.\n"
     ]
    },
    {
     "name": "stdout",
     "output_type": "stream",
     "text": [
      "Model and tokenizer loaded successfully.\n"
     ]
    }
   ],
   "source": [
    "import torch\n",
    "from src.training.setup import init_model_and_tokenizer, setup_optimizer_and_scheduler\n",
    "\n",
    "device = \"cuda\" if torch.cuda.is_available() else \"cpu\"\n",
    "print(f\"Using device: {device}\")\n",
    "\n",
    "model, tokenizer = init_model_and_tokenizer(\n",
    "    model_name=MODEL_NAME,\n",
    "    device=device,\n",
    "    num_total_labels=len(df['labels'].iloc[0]),\n",
    "    id_to_label= id_to_label,\n",
    "    label_to_id= label_to_id,\n",
    ")\n",
    "\n",
    "pos_weight_tensor = torch.tensor([pos_weight], dtype=torch.float).to(device)"
   ]
  },
  {
   "cell_type": "code",
   "execution_count": 8,
   "id": "9e32d12a",
   "metadata": {},
   "outputs": [],
   "source": [
    "from src.data_management.datasets import NarrativeClassificationDataset\n",
    "from torch.utils.data import DataLoader\n",
    "\n",
    "train_dataset = NarrativeClassificationDataset(\n",
    "    dataframe= train_df,\n",
    "    tokenizer=tokenizer,\n",
    "    max_length=512,\n",
    ")\n",
    "val_dataset = NarrativeClassificationDataset(\n",
    "    dataframe=val_df,\n",
    "    tokenizer=tokenizer,\n",
    "    max_length=512,\n",
    ")\n",
    "\n",
    "train_dataloader = DataLoader(\n",
    "    train_dataset,\n",
    "    batch_size=BATCH_SIZE,\n",
    "    shuffle=True,\n",
    "    num_workers=4,\n",
    ")\n",
    "val_dataloader = DataLoader(\n",
    "    val_dataset,\n",
    "    batch_size=BATCH_SIZE,\n",
    "    shuffle=False,\n",
    "    num_workers=4,\n",
    ")"
   ]
  },
  {
   "cell_type": "code",
   "execution_count": 9,
   "id": "6c5c158b",
   "metadata": {},
   "outputs": [
    {
     "name": "stdout",
     "output_type": "stream",
     "text": [
      "Optimizer set up successfully.\n",
      "Scheduler set up successfully.\n"
     ]
    }
   ],
   "source": [
    "optimizer, scheduler = setup_optimizer_and_scheduler(\n",
    "    model=model,\n",
    "    train_dataloader=train_dataloader,\n",
    "    epochs=EPOCHS,\n",
    "    learning_rate=LEARNING_RATE,\n",
    ")"
   ]
  },
  {
   "cell_type": "code",
   "execution_count": 10,
   "id": "1e7f1c83",
   "metadata": {},
   "outputs": [
    {
     "name": "stdout",
     "output_type": "stream",
     "text": [
      "Model and all training components are ready.\n"
     ]
    }
   ],
   "source": [
    "pos_weight_tensor = torch.tensor([pos_weight], dtype=torch.float).to(device)\n",
    "loss_fn = torch.nn.BCEWithLogitsLoss(pos_weight=pos_weight_tensor)\n",
    "print(\"Model and all training components are ready.\")"
   ]
  },
  {
   "cell_type": "code",
   "execution_count": 11,
   "id": "c1a1348a",
   "metadata": {},
   "outputs": [],
   "source": [
    "best_val_loss = float('inf')\n",
    "epochs_no_improve = 0\n",
    "history = {'train_loss': [], 'val_loss': [], 'val_f1_micro': []}"
   ]
  },
  {
   "cell_type": "code",
   "execution_count": 12,
   "id": "7a61888b",
   "metadata": {},
   "outputs": [
    {
     "name": "stdout",
     "output_type": "stream",
     "text": [
      "\n",
      "==================== Epoch 1/20 ====================\n"
     ]
    },
    {
     "name": "stderr",
     "output_type": "stream",
     "text": [
      "Training: 100%|██████████| 63/63 [02:03<00:00,  1.96s/it]\n"
     ]
    },
    {
     "name": "stdout",
     "output_type": "stream",
     "text": [
      "Average Training Loss: 1.9265\n",
      "Running evaluation on the validation set...\n"
     ]
    },
    {
     "name": "stderr",
     "output_type": "stream",
     "text": [
      "Validating: 100%|██████████| 21/21 [00:07<00:00,  2.86it/s]\n"
     ]
    },
    {
     "name": "stdout",
     "output_type": "stream",
     "text": [
      "Average Validation Loss: 1.1301\n",
      "Validation Loss: 1.1301\n",
      "Validation F1 Micro: 0.1331\n",
      "Validation loss improved. Saving model to models/phase0_xlmr_best_model.bin\n",
      "\n",
      "==================== Epoch 2/20 ====================\n"
     ]
    },
    {
     "name": "stderr",
     "output_type": "stream",
     "text": [
      "Training: 100%|██████████| 63/63 [02:00<00:00,  1.92s/it]\n"
     ]
    },
    {
     "name": "stdout",
     "output_type": "stream",
     "text": [
      "Average Training Loss: 1.0920\n",
      "Running evaluation on the validation set...\n"
     ]
    },
    {
     "name": "stderr",
     "output_type": "stream",
     "text": [
      "Validating: 100%|██████████| 21/21 [00:07<00:00,  2.92it/s]\n"
     ]
    },
    {
     "name": "stdout",
     "output_type": "stream",
     "text": [
      "Average Validation Loss: 1.0445\n",
      "Validation Loss: 1.0445\n",
      "Validation F1 Micro: 0.1557\n",
      "Validation loss improved. Saving model to models/phase0_xlmr_best_model.bin\n",
      "\n",
      "==================== Epoch 3/20 ====================\n"
     ]
    },
    {
     "name": "stderr",
     "output_type": "stream",
     "text": [
      "Training: 100%|██████████| 63/63 [01:59<00:00,  1.90s/it]\n"
     ]
    },
    {
     "name": "stdout",
     "output_type": "stream",
     "text": [
      "Average Training Loss: 0.9900\n",
      "Running evaluation on the validation set...\n"
     ]
    },
    {
     "name": "stderr",
     "output_type": "stream",
     "text": [
      "Validating: 100%|██████████| 21/21 [00:04<00:00,  4.39it/s]\n"
     ]
    },
    {
     "name": "stdout",
     "output_type": "stream",
     "text": [
      "Average Validation Loss: 0.9414\n",
      "Validation Loss: 0.9414\n",
      "Validation F1 Micro: 0.1836\n",
      "Validation loss improved. Saving model to models/phase0_xlmr_best_model.bin\n",
      "\n",
      "==================== Epoch 4/20 ====================\n"
     ]
    },
    {
     "name": "stderr",
     "output_type": "stream",
     "text": [
      "Training: 100%|██████████| 63/63 [02:00<00:00,  1.90s/it]\n"
     ]
    },
    {
     "name": "stdout",
     "output_type": "stream",
     "text": [
      "Average Training Loss: 0.9092\n",
      "Running evaluation on the validation set...\n"
     ]
    },
    {
     "name": "stderr",
     "output_type": "stream",
     "text": [
      "Validating: 100%|██████████| 21/21 [00:07<00:00,  2.88it/s]\n"
     ]
    },
    {
     "name": "stdout",
     "output_type": "stream",
     "text": [
      "Average Validation Loss: 0.8822\n",
      "Validation Loss: 0.8822\n",
      "Validation F1 Micro: 0.1946\n",
      "Validation loss improved. Saving model to models/phase0_xlmr_best_model.bin\n",
      "\n",
      "==================== Epoch 5/20 ====================\n"
     ]
    },
    {
     "name": "stderr",
     "output_type": "stream",
     "text": [
      "Training: 100%|██████████| 63/63 [01:59<00:00,  1.90s/it]\n"
     ]
    },
    {
     "name": "stdout",
     "output_type": "stream",
     "text": [
      "Average Training Loss: 0.8540\n",
      "Running evaluation on the validation set...\n"
     ]
    },
    {
     "name": "stderr",
     "output_type": "stream",
     "text": [
      "Validating: 100%|██████████| 21/21 [00:07<00:00,  2.86it/s]\n"
     ]
    },
    {
     "name": "stdout",
     "output_type": "stream",
     "text": [
      "Average Validation Loss: 0.8635\n",
      "Validation Loss: 0.8635\n",
      "Validation F1 Micro: 0.1986\n",
      "Validation loss improved. Saving model to models/phase0_xlmr_best_model.bin\n",
      "\n",
      "==================== Epoch 6/20 ====================\n"
     ]
    },
    {
     "name": "stderr",
     "output_type": "stream",
     "text": [
      "Training: 100%|██████████| 63/63 [01:59<00:00,  1.90s/it]\n"
     ]
    },
    {
     "name": "stdout",
     "output_type": "stream",
     "text": [
      "Average Training Loss: 0.8189\n",
      "Running evaluation on the validation set...\n"
     ]
    },
    {
     "name": "stderr",
     "output_type": "stream",
     "text": [
      "Validating: 100%|██████████| 21/21 [00:07<00:00,  2.87it/s]\n"
     ]
    },
    {
     "name": "stdout",
     "output_type": "stream",
     "text": [
      "Average Validation Loss: 0.8366\n",
      "Validation Loss: 0.8366\n",
      "Validation F1 Micro: 0.2034\n",
      "Validation loss improved. Saving model to models/phase0_xlmr_best_model.bin\n",
      "\n",
      "==================== Epoch 7/20 ====================\n"
     ]
    },
    {
     "name": "stderr",
     "output_type": "stream",
     "text": [
      "Training: 100%|██████████| 63/63 [02:01<00:00,  1.93s/it]\n"
     ]
    },
    {
     "name": "stdout",
     "output_type": "stream",
     "text": [
      "Average Training Loss: 0.7821\n",
      "Running evaluation on the validation set...\n"
     ]
    },
    {
     "name": "stderr",
     "output_type": "stream",
     "text": [
      "Validating: 100%|██████████| 21/21 [00:07<00:00,  2.80it/s]\n"
     ]
    },
    {
     "name": "stdout",
     "output_type": "stream",
     "text": [
      "Average Validation Loss: 0.8123\n",
      "Validation Loss: 0.8123\n",
      "Validation F1 Micro: 0.2066\n",
      "Validation loss improved. Saving model to models/phase0_xlmr_best_model.bin\n",
      "\n",
      "==================== Epoch 8/20 ====================\n"
     ]
    },
    {
     "name": "stderr",
     "output_type": "stream",
     "text": [
      "Training: 100%|██████████| 63/63 [01:59<00:00,  1.90s/it]\n"
     ]
    },
    {
     "name": "stdout",
     "output_type": "stream",
     "text": [
      "Average Training Loss: 0.7500\n",
      "Running evaluation on the validation set...\n"
     ]
    },
    {
     "name": "stderr",
     "output_type": "stream",
     "text": [
      "Validating: 100%|██████████| 21/21 [00:05<00:00,  4.07it/s]\n"
     ]
    },
    {
     "name": "stdout",
     "output_type": "stream",
     "text": [
      "Average Validation Loss: 0.8179\n",
      "Validation Loss: 0.8179\n",
      "Validation F1 Micro: 0.1954\n",
      "Validation loss did not improve. Early stopping counter: 1/3\n",
      "\n",
      "==================== Epoch 9/20 ====================\n"
     ]
    },
    {
     "name": "stderr",
     "output_type": "stream",
     "text": [
      "Training: 100%|██████████| 63/63 [02:01<00:00,  1.93s/it]\n"
     ]
    },
    {
     "name": "stdout",
     "output_type": "stream",
     "text": [
      "Average Training Loss: 0.7282\n",
      "Running evaluation on the validation set...\n"
     ]
    },
    {
     "name": "stderr",
     "output_type": "stream",
     "text": [
      "Validating: 100%|██████████| 21/21 [00:07<00:00,  2.91it/s]\n"
     ]
    },
    {
     "name": "stdout",
     "output_type": "stream",
     "text": [
      "Average Validation Loss: 0.8218\n",
      "Validation Loss: 0.8218\n",
      "Validation F1 Micro: 0.2152\n",
      "Validation loss did not improve. Early stopping counter: 2/3\n",
      "\n",
      "==================== Epoch 10/20 ====================\n"
     ]
    },
    {
     "name": "stderr",
     "output_type": "stream",
     "text": [
      "Training: 100%|██████████| 63/63 [02:01<00:00,  1.92s/it]\n"
     ]
    },
    {
     "name": "stdout",
     "output_type": "stream",
     "text": [
      "Average Training Loss: 0.7069\n",
      "Running evaluation on the validation set...\n"
     ]
    },
    {
     "name": "stderr",
     "output_type": "stream",
     "text": [
      "Validating: 100%|██████████| 21/21 [00:07<00:00,  2.74it/s]\n"
     ]
    },
    {
     "name": "stdout",
     "output_type": "stream",
     "text": [
      "Average Validation Loss: 0.7872\n",
      "Validation Loss: 0.7872\n",
      "Validation F1 Micro: 0.2196\n",
      "Validation loss improved. Saving model to models/phase0_xlmr_best_model.bin\n",
      "\n",
      "==================== Epoch 11/20 ====================\n"
     ]
    },
    {
     "name": "stderr",
     "output_type": "stream",
     "text": [
      "Training: 100%|██████████| 63/63 [01:59<00:00,  1.90s/it]\n"
     ]
    },
    {
     "name": "stdout",
     "output_type": "stream",
     "text": [
      "Average Training Loss: 0.6845\n",
      "Running evaluation on the validation set...\n"
     ]
    },
    {
     "name": "stderr",
     "output_type": "stream",
     "text": [
      "Validating: 100%|██████████| 21/21 [00:07<00:00,  2.74it/s]\n"
     ]
    },
    {
     "name": "stdout",
     "output_type": "stream",
     "text": [
      "Average Validation Loss: 0.8072\n",
      "Validation Loss: 0.8072\n",
      "Validation F1 Micro: 0.2216\n",
      "Validation loss did not improve. Early stopping counter: 1/3\n",
      "\n",
      "==================== Epoch 12/20 ====================\n"
     ]
    },
    {
     "name": "stderr",
     "output_type": "stream",
     "text": [
      "Training: 100%|██████████| 63/63 [02:00<00:00,  1.91s/it]\n"
     ]
    },
    {
     "name": "stdout",
     "output_type": "stream",
     "text": [
      "Average Training Loss: 0.6716\n",
      "Running evaluation on the validation set...\n"
     ]
    },
    {
     "name": "stderr",
     "output_type": "stream",
     "text": [
      "Validating: 100%|██████████| 21/21 [00:04<00:00,  4.48it/s]\n"
     ]
    },
    {
     "name": "stdout",
     "output_type": "stream",
     "text": [
      "Average Validation Loss: 0.7865\n",
      "Validation Loss: 0.7865\n",
      "Validation F1 Micro: 0.2343\n",
      "Validation loss improved. Saving model to models/phase0_xlmr_best_model.bin\n",
      "\n",
      "==================== Epoch 13/20 ====================\n"
     ]
    },
    {
     "name": "stderr",
     "output_type": "stream",
     "text": [
      "Training: 100%|██████████| 63/63 [02:00<00:00,  1.90s/it]\n"
     ]
    },
    {
     "name": "stdout",
     "output_type": "stream",
     "text": [
      "Average Training Loss: 0.6576\n",
      "Running evaluation on the validation set...\n"
     ]
    },
    {
     "name": "stderr",
     "output_type": "stream",
     "text": [
      "Validating: 100%|██████████| 21/21 [00:07<00:00,  2.85it/s]\n"
     ]
    },
    {
     "name": "stdout",
     "output_type": "stream",
     "text": [
      "Average Validation Loss: 0.7813\n",
      "Validation Loss: 0.7813\n",
      "Validation F1 Micro: 0.2302\n",
      "Validation loss improved. Saving model to models/phase0_xlmr_best_model.bin\n",
      "\n",
      "==================== Epoch 14/20 ====================\n"
     ]
    },
    {
     "name": "stderr",
     "output_type": "stream",
     "text": [
      "Training: 100%|██████████| 63/63 [02:00<00:00,  1.92s/it]\n"
     ]
    },
    {
     "name": "stdout",
     "output_type": "stream",
     "text": [
      "Average Training Loss: 0.6441\n",
      "Running evaluation on the validation set...\n"
     ]
    },
    {
     "name": "stderr",
     "output_type": "stream",
     "text": [
      "Validating: 100%|██████████| 21/21 [00:07<00:00,  2.86it/s]\n"
     ]
    },
    {
     "name": "stdout",
     "output_type": "stream",
     "text": [
      "Average Validation Loss: 0.7905\n",
      "Validation Loss: 0.7905\n",
      "Validation F1 Micro: 0.2229\n",
      "Validation loss did not improve. Early stopping counter: 1/3\n",
      "\n",
      "==================== Epoch 15/20 ====================\n"
     ]
    },
    {
     "name": "stderr",
     "output_type": "stream",
     "text": [
      "Training: 100%|██████████| 63/63 [02:00<00:00,  1.91s/it]\n"
     ]
    },
    {
     "name": "stdout",
     "output_type": "stream",
     "text": [
      "Average Training Loss: 0.6348\n",
      "Running evaluation on the validation set...\n"
     ]
    },
    {
     "name": "stderr",
     "output_type": "stream",
     "text": [
      "Validating: 100%|██████████| 21/21 [00:07<00:00,  2.81it/s]\n"
     ]
    },
    {
     "name": "stdout",
     "output_type": "stream",
     "text": [
      "Average Validation Loss: 0.7937\n",
      "Validation Loss: 0.7937\n",
      "Validation F1 Micro: 0.2277\n",
      "Validation loss did not improve. Early stopping counter: 2/3\n",
      "\n",
      "==================== Epoch 16/20 ====================\n"
     ]
    },
    {
     "name": "stderr",
     "output_type": "stream",
     "text": [
      "Training: 100%|██████████| 63/63 [01:58<00:00,  1.88s/it]\n"
     ]
    },
    {
     "name": "stdout",
     "output_type": "stream",
     "text": [
      "Average Training Loss: 0.6239\n",
      "Running evaluation on the validation set...\n"
     ]
    },
    {
     "name": "stderr",
     "output_type": "stream",
     "text": [
      "Validating: 100%|██████████| 21/21 [00:07<00:00,  2.81it/s]"
     ]
    },
    {
     "name": "stdout",
     "output_type": "stream",
     "text": [
      "Average Validation Loss: 0.7901\n",
      "Validation Loss: 0.7901\n",
      "Validation F1 Micro: 0.2302\n",
      "Validation loss did not improve. Early stopping counter: 3/3\n",
      "Early stopping triggered after 3 epochs with no improvement.\n",
      "\n",
      "--- Training Complete ---\n",
      "Best validation loss achieved: 0.7813\n",
      "Best model saved to models/phase0_xlmr_best_model.bin\n"
     ]
    },
    {
     "name": "stderr",
     "output_type": "stream",
     "text": [
      "\n"
     ]
    }
   ],
   "source": [
    "from src.training.engine import evaluate, train_epoch\n",
    "\n",
    "\n",
    "for epoch in range(EPOCHS):\n",
    "    print(f\"\\n{'='*20} Epoch {epoch + 1}/{EPOCHS} {'='*20}\")\n",
    "\n",
    "    # --- Call the training function from the engine.py ---\n",
    "    avg_train_loss = train_epoch(\n",
    "        model, \n",
    "        train_dataloader, \n",
    "        optimizer, \n",
    "        scheduler, \n",
    "        loss_fn,\n",
    "        device, \n",
    "        parent_child_pairs, \n",
    "        H_LAMBDA\n",
    "    )\n",
    "    history['train_loss'].append(avg_train_loss)\n",
    "\n",
    "    # --- Call the evaluation function from the engine.py ---\n",
    "    avg_val_loss, val_metrics = evaluate(\n",
    "        model, \n",
    "        val_dataloader, \n",
    "        loss_fn,\n",
    "        device, \n",
    "        H_LAMBDA, \n",
    "        parent_child_pairs\n",
    "    )\n",
    "    history['val_loss'].append(avg_val_loss)\n",
    "    history['val_f1_micro'].append(val_metrics['f1_micro'])\n",
    "    \n",
    "    print(f\"Validation Loss: {avg_val_loss:.4f}\")\n",
    "    print(f\"Validation F1 Micro: {val_metrics['f1_micro']:.4f}\")\n",
    "\n",
    "    # --- Early Stopping Logic ---\n",
    "    if avg_val_loss < best_val_loss:\n",
    "        best_val_loss = avg_val_loss\n",
    "        epochs_no_improve = 0\n",
    "        torch.save(model.state_dict(), MODEL_OUTPUT_PATH)\n",
    "        print(f\"Validation loss improved. Saving model to {MODEL_OUTPUT_PATH}\")\n",
    "    else:\n",
    "        epochs_no_improve += 1\n",
    "        print(f\"Validation loss did not improve. Early stopping counter: {epochs_no_improve}/{PATIENCE}\")\n",
    "\n",
    "    if epochs_no_improve >= PATIENCE:\n",
    "        print(f\"Early stopping triggered after {PATIENCE} epochs with no improvement.\")\n",
    "        break\n",
    "\n",
    "print(\"\\n--- Training Complete ---\")\n",
    "print(f\"Best validation loss achieved: {best_val_loss:.4f}\")\n",
    "print(f\"Best model saved to {MODEL_OUTPUT_PATH}\")"
   ]
  },
  {
   "cell_type": "code",
   "execution_count": 13,
   "id": "47b0df1d",
   "metadata": {},
   "outputs": [
    {
     "data": {
      "image/png": "[encoded data removed]",
      "text/plain": [
       "<Figure size 1200x500 with 2 Axes>"
      ]
     },
     "metadata": {},
     "output_type": "display_data"
    }
   ],
   "source": [
    "import matplotlib.pyplot as plt\n",
    "\n",
    "plt.figure(figsize=(12, 5))\n",
    "\n",
    "plt.subplot(1, 2, 1)\n",
    "plt.plot(history['train_loss'], label='Training Loss')\n",
    "plt.plot(history['val_loss'], label='Validation Loss')\n",
    "plt.title('Loss Over Epochs')\n",
    "plt.xlabel('Epoch')\n",
    "plt.ylabel('Loss')\n",
    "plt.legend()\n",
    "\n",
    "plt.subplot(1, 2, 2)\n",
    "plt.plot(history['val_f1_micro'], label='Validation F1 Micro', color='orange')\n",
    "plt.title('Validation F1 Micro Over Epochs')\n",
    "plt.xlabel('Epoch')\n",
    "plt.ylabel('F1 Micro')\n",
    "plt.legend()\n",
    "\n",
    "plt.tight_layout()\n",
    "plt.show()\n"
   ]
  },
  {
   "cell_type": "code",
   "execution_count": 14,
   "id": "0e941802",
   "metadata": {},
   "outputs": [
    {
     "name": "stdout",
     "output_type": "stream",
     "text": [
      "Model results saved to model_results_phase0_xlmr.json\n"
     ]
    }
   ],
   "source": [
    "import json\n",
    "\n",
    "# Prepare results dictionary\n",
    "results = {\n",
    "    \"model_name\": MODEL_NAME,\n",
    "    \"epochs_trained\": len(history['train_loss']),\n",
    "    \"best_val_loss\": best_val_loss,\n",
    "    \"val_f1_micro\": history['val_f1_micro'],\n",
    "    \"val_loss\": history['val_loss'],\n",
    "    \"train_loss\": history['train_loss'],\n",
    "    \"config\": {\n",
    "        \"batch_size\": BATCH_SIZE,\n",
    "        \"learning_rate\": LEARNING_RATE,\n",
    "        \"h_lambda\": H_LAMBDA,\n",
    "        \"patience\": PATIENCE,\n",
    "        \"pos_weight\": float(pos_weight),\n",
    "        \"model_output_path\": MODEL_OUTPUT_PATH,\n",
    "    }\n",
    "}\n",
    "\n",
    "# Save results to a JSON file\n",
    "with open(\"model_results_phase0_xlmr.json\", \"w\") as f:\n",
    "    json.dump(results, f, indent=2)\n",
    "\n",
    "print(\"Model results saved to model_results_phase0_xlmr.json\")"
   ]
  }
 ],
 "metadata": {
  "language_info": {
   "name": "python"
  }
 },
 "nbformat": 4,
 "nbformat_minor": 5
}
