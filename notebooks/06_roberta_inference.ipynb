{
 "cells": [
  {
   "cell_type": "markdown",
   "id": "21c1c900",
   "metadata": {},
   "source": [
    "# Running inference on the devset"
   ]
  },
  {
   "cell_type": "code",
   "execution_count": null,
   "id": "69250ef1",
   "metadata": {},
   "outputs": [],
   "source": [
    "import pandas as pd\n",
    "from tqdm.auto import tqdm\n",
    "import os\n",
    "import sys\n",
    "\n",
    "\n",
    "sys.path.append(os.path.abspath(os.path.join(os.getcwd(), '..')))\n",
    "# Set the current working directory to the project root\n",
    "ROOT_DIR = os.path.abspath(os.path.join(os.getcwd(), '..'))\n",
    "os.chdir(ROOT_DIR)"
   ]
  },
  {
   "cell_type": "code",
   "execution_count": null,
   "id": "8baa5757",
   "metadata": {},
   "outputs": [],
   "source": [
    "from src.inference.narrative_predictor import NarrativePredictor\n",
    "\n",
    "MODEL_PATH = 'models/phase0_xlmr_best_model.bin'\n",
    "TOKENIZER_NAME = 'xlm-roberta-base'\n",
    "TEST_ARTICLES_PATH = 'devset/EN/subtask-2-documents/'\n",
    "OUTPUT_FILE = 'devset/en_predictions.txt'\n",
    "OPTIMAL_THRESHOLD = 0.87"
   ]
  },
  {
   "cell_type": "code",
   "execution_count": null,
   "id": "1967ef00",
   "metadata": {},
   "outputs": [],
   "source": [
    "def load_articles(folder_path):\n",
    "    \"\"\"Loads all .txt files from a folder.\"\"\"\n",
    "    articles = []\n",
    "    for filename in os.listdir(folder_path):\n",
    "        if filename.endswith(\".txt\"):\n",
    "            with open(os.path.join(folder_path, filename), 'r', encoding='utf-8') as f:\n",
    "                articles.append({'article_id': filename, 'text': f.read()})\n",
    "    return pd.DataFrame(articles)"
   ]
  },
  {
   "cell_type": "code",
   "execution_count": null,
   "id": "44683b4a",
   "metadata": {},
   "outputs": [],
   "source": [
    "from src.data_management.label_parser import get_label_mappings\n",
    "\n",
    "label_to_id, id_to_label, narrative_to_subnarrative_ids = get_label_mappings()\n",
    "sub_to_narr_id_map = {}\n",
    "\n",
    "# Create a mapping from sub-narrative IDs to their parent narrative IDs\n",
    "for narr_id, sub_ids_list in narrative_to_subnarrative_ids.items():\n",
    "    for sub_id in sub_ids_list:\n",
    "        sub_to_narr_id_map[sub_id] = narr_id\n",
    "\n",
    "\n",
    "parent_child_pairs = list(sub_to_narr_id_map.items())"
   ]
  },
  {
   "cell_type": "code",
   "execution_count": null,
   "id": "506c8270",
   "metadata": {},
   "outputs": [],
   "source": [
    "label_maps = {\n",
    "        \"id2label\": id_to_label,\n",
    "        \"label2id\": label_to_id,\n",
    "        \"parent_child_pairs\": parent_child_pairs\n",
    "    }\n",
    "\n",
    "# --- 2. Initialize the Predictor ---\n",
    "# This loads the model and tokenizer only once.\n",
    "predictor = NarrativePredictor(MODEL_PATH, TOKENIZER_NAME, label_maps)\n",
    "\n",
    "# --- 3. Set the Optimal Threshold ---\n",
    "predictor.set_threshold(OPTIMAL_THRESHOLD)"
   ]
  },
  {
   "cell_type": "code",
   "execution_count": null,
   "id": "5a0784ab",
   "metadata": {},
   "outputs": [],
   "source": [
    "print(f\"Loading articles from {TEST_ARTICLES_PATH}...\")\n",
    "df_test = load_articles(TEST_ARTICLES_PATH)\n",
    "texts_to_predict = df_test['text'].tolist()"
   ]
  },
  {
   "cell_type": "code",
   "execution_count": null,
   "id": "a628158c",
   "metadata": {},
   "outputs": [],
   "source": [
    "predictions = predictor.predict_batch(texts_to_predict)\n",
    "\n",
    "df_test['prediction'] = predictions\n",
    "\n",
    "df_test['narratives'] = df_test['prediction'].apply(lambda x: x['narratives'])\n",
    "df_test['subnarratives'] = df_test['prediction'].apply(lambda x: x['subnarratives'])\n",
    "\n",
    "\n",
    "df_test['narratives'] = df_test['narratives'].apply(lambda x: ';'.join([str(narr) for narr in x]) if isinstance(x, list) else '')\n",
    "df_test['subnarratives'] = df_test['subnarratives'].apply(lambda x: ';'.join([str(subnarr) for subnarr in x]) if isinstance(x, list) else '')\n",
    "\n",
    "df_test.head()\n",
    "df_test[['article_id', 'narratives', 'subnarratives']].to_csv(OUTPUT_FILE, index=False, sep='\\t', header=False)"
   ]
  },
  {
   "cell_type": "markdown",
   "id": "2c18503d",
   "metadata": {},
   "source": [
    "# Running inference on the testset"
   ]
  },
  {
   "cell_type": "code",
   "execution_count": null,
   "id": "7658fba7",
   "metadata": {},
   "outputs": [],
   "source": [
    "import pandas as pd\n",
    "from tqdm.auto import tqdm\n",
    "import os\n",
    "import sys\n",
    "\n",
    "\n",
    "sys.path.append(os.path.abspath(os.path.join(os.getcwd(), '..')))\n",
    "# Set the current working directory to the project root\n",
    "ROOT_DIR = os.path.abspath(os.path.join(os.getcwd(), '..'))\n",
    "os.chdir(ROOT_DIR)"
   ]
  },
  {
   "cell_type": "code",
   "execution_count": null,
   "id": "7e16a033",
   "metadata": {},
   "outputs": [],
   "source": [
    "from src.inference.narrative_predictor import NarrativePredictor\n",
    "\n",
    "MODEL_PATH = 'models/phase0_xlmr_continual_learning_model.bin'\n",
    "TOKENIZER_NAME = 'xlm-roberta-base'\n",
    "TEST_ARTICLES_PATH_EN = 'testset/EN/subtask-2-documents/'\n",
    "DEV_ARTICLES_PATH_EN = 'devset/EN/subtask-2-documents/'\n",
    "OUTPUT_FILE = 'testset/en_predictions.txt'\n",
    "NARRATIVE_THRESHOLD = 0.88\n",
    "SUBNARRATIVE_THRESHOLD = 0.80"
   ]
  },
  {
   "cell_type": "code",
   "execution_count": null,
   "id": "5478b352",
   "metadata": {},
   "outputs": [],
   "source": [
    "def load_articles(folder_path):\n",
    "    \"\"\"Loads all .txt files from a folder.\"\"\"\n",
    "    articles = []\n",
    "    for filename in os.listdir(folder_path):\n",
    "        if filename.endswith(\".txt\"):\n",
    "            with open(os.path.join(folder_path, filename), 'r', encoding='utf-8') as f:\n",
    "                articles.append({'article_id': filename, 'text': f.read()})\n",
    "    return pd.DataFrame(articles)"
   ]
  },
  {
   "cell_type": "code",
   "execution_count": null,
   "id": "711db4ae",
   "metadata": {},
   "outputs": [],
   "source": [
    "from src.data_management.label_parser import get_label_mappings\n",
    "\n",
    "label_to_id, id_to_label, narrative_to_subnarrative_ids = get_label_mappings()\n",
    "sub_to_narr_id_map = {}\n",
    "\n",
    "# Create a mapping from sub-narrative IDs to their parent narrative IDs\n",
    "for narr_id, sub_ids_list in narrative_to_subnarrative_ids.items():\n",
    "    for sub_id in sub_ids_list:\n",
    "        sub_to_narr_id_map[sub_id] = narr_id\n",
    "\n",
    "\n",
    "parent_child_pairs = list(sub_to_narr_id_map.items())"
   ]
  },
  {
   "cell_type": "code",
   "execution_count": null,
   "id": "d05cc55b",
   "metadata": {},
   "outputs": [],
   "source": [
    "label_maps = {\n",
    "        \"id2label\": id_to_label,\n",
    "        \"label2id\": label_to_id,\n",
    "        \"parent_child_pairs\": parent_child_pairs\n",
    "    }\n",
    "\n",
    "# --- 2. Initialize the Predictor ---\n",
    "# This loads the model and tokenizer only once.\n",
    "predictor = NarrativePredictor(MODEL_PATH, TOKENIZER_NAME, label_maps)\n"
   ]
  },
  {
   "cell_type": "code",
   "execution_count": null,
   "id": "a1fe933a",
   "metadata": {},
   "outputs": [],
   "source": [
    "\n",
    "# --- 3. Set the Optimal Threshold ---\n",
    "predictor.set_thresholds(NARRATIVE_THRESHOLD, SUBNARRATIVE_THRESHOLD)"
   ]
  },
  {
   "cell_type": "code",
   "execution_count": null,
   "id": "c4a8b2c1",
   "metadata": {},
   "outputs": [],
   "source": [
    "print(f\"Loading articles from {TEST_ARTICLES_PATH_EN}...\")\n",
    "df_test = load_articles(TEST_ARTICLES_PATH_EN)\n",
    "texts_to_predict = df_test['text'].tolist()"
   ]
  },
  {
   "cell_type": "code",
   "execution_count": null,
   "id": "8c9af5b8",
   "metadata": {},
   "outputs": [],
   "source": [
    "predictions = predictor.predict_batch(texts_to_predict)\n",
    "\n",
    "df_test['prediction'] = predictions\n",
    "\n",
    "df_test['narratives'] = df_test['prediction'].apply(lambda x: x['narratives'])\n",
    "df_test['subnarratives'] = df_test['prediction'].apply(lambda x: x['subnarratives'])\n",
    "\n",
    "\n",
    "df_test['narratives'] = df_test['narratives'].apply(lambda x: ';'.join([str(narr) for narr in x]) if isinstance(x, list) else '')\n",
    "df_test['subnarratives'] = df_test['subnarratives'].apply(lambda x: ';'.join([str(subnarr) for subnarr in x]) if isinstance(x, list) else '')\n",
    "\n",
    "df_test.head()\n",
    "df_test[['article_id', 'narratives', 'subnarratives']].to_csv(OUTPUT_FILE, index=False, sep='\\t', header=False)"
   ]
  },
  {
   "cell_type": "code",
   "execution_count": null,
   "id": "d43b677f",
   "metadata": {},
   "outputs": [],
   "source": [
    "TEST_ARTICLES_PATH_RU = 'testset/RU/subtask-2-documents/'\n",
    "DEV_ARTICLES_PATH_RU = 'devset/RU/subtask-2-documents/'"
   ]
  },
  {
   "cell_type": "code",
   "execution_count": null,
   "id": "958d935a",
   "metadata": {},
   "outputs": [],
   "source": [
    "df_test_ru = load_articles(TEST_ARTICLES_PATH_RU)\n",
    "texts_to_predict_ru = df_test_ru['text'].tolist()"
   ]
  },
  {
   "cell_type": "code",
   "execution_count": null,
   "id": "00104bb3",
   "metadata": {},
   "outputs": [],
   "source": [
    "predictions_ru = predictor.predict_batch(texts_to_predict_ru)\n",
    "\n",
    "df_test_ru['prediction'] = predictions_ru\n",
    "df_test_ru['narratives'] = df_test_ru['prediction'].apply(lambda x: x['narratives'])\n",
    "df_test_ru['subnarratives'] = df_test_ru['prediction'].apply(lambda x: x['subnarratives'])\n",
    "df_test_ru['narratives'] = df_test_ru['narratives'].apply(lambda x: ';'.join([str(narr) for narr in x]) if isinstance(x, list) else '')\n",
    "df_test_ru['subnarratives'] = df_test_ru['subnarratives'].apply(lambda x: ';'.join([str(subnarr) for subnarr in x]) if isinstance(x, list) else '')\n",
    "df_test_ru.head()\n",
    "df_test_ru[['article_id', 'narratives', 'subnarratives']].to_csv('testset/ru_predictions.txt', index=False, sep='\\t', header=False)"
   ]
  }
 ],
 "metadata": {
  "kernelspec": {
   "display_name": ".venv",
   "language": "python",
   "name": "python3"
  },
  "language_info": {
   "codemirror_mode": {
    "name": "ipython",
    "version": 3
   },
   "file_extension": ".py",
   "mimetype": "text/x-python",
   "name": "python",
   "nbconvert_exporter": "python",
   "pygments_lexer": "ipython3",
   "version": "3.12.3"
  }
 },
 "nbformat": 4,
 "nbformat_minor": 5
}
