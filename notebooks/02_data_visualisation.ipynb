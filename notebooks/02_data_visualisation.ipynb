{
 "cells": [
  {
   "cell_type": "markdown",
   "id": "02176a0f",
   "metadata": {},
   "source": [
    "# Label Distribution Analysis\n",
    "\n",
    "In this section, we will analyze and visualize the overall distribution of labels in the dataset using bar plots."
   ]
  },
  {
   "cell_type": "code",
   "execution_count": null,
   "id": "2828455c",
   "metadata": {},
   "outputs": [],
   "source": [
    "import pandas as pd\n",
    "import os\n",
    "import sys\n",
    "\n",
    "sys.path.append(os.path.abspath(os.path.join(os.getcwd(), '..')))\n",
    "# Set the current working directory to the project root\n",
    "ROOT_DIR = os.path.abspath(os.path.join(os.getcwd(), '..'))\n",
    "os.chdir(ROOT_DIR)"
   ]
  },
  {
   "cell_type": "code",
   "execution_count": null,
   "id": "de114b08",
   "metadata": {},
   "outputs": [],
   "source": [
    "df = pd.read_parquet('data/processed/phase0_baseline.parquet')\n",
    "\n",
    "df.head()"
   ]
  },
  {
   "cell_type": "code",
   "execution_count": null,
   "id": "74d18002",
   "metadata": {},
   "outputs": [],
   "source": [
    "import numpy as np\n",
    "\n",
    "# Inspect the type and content of the first few entries in 'narratives' and 'subnarratives'\n",
    "print('narratives column:')\n",
    "print(df['narratives'].head())\n",
    "print('Type of first entry:', type(df['narratives'].iloc[0]))\n",
    "print('\\nsubnarratives column:')\n",
    "print(df['subnarratives'].head())\n",
    "print('Type of first entry:', type(df['subnarratives'].iloc[0]))\n",
    "\n",
    "# If any entry in 'narratives' or 'subnarratives' is a numpy array, convert the entire column to lists\n",
    "\n",
    "df['narratives'] = df['narratives'].apply(lambda x: x.tolist() if isinstance(x, np.ndarray) else x)\n",
    "df['subnarratives'] = df['subnarratives'].apply(lambda x: x.tolist() if isinstance(x, np.ndarray) else x)\n",
    "df['narrative_ids'] = df['narrative_ids'].apply(lambda x: x.tolist() if isinstance(x, np.ndarray) else x)\n",
    "df['subnarrative_ids'] = df['subnarrative_ids'].apply(lambda x: x.tolist() if isinstance(x, np.ndarray) else x)"
   ]
  },
  {
   "cell_type": "markdown",
   "id": "40edf7e0",
   "metadata": {},
   "source": [
    "# Narrative and subnarrative distribution"
   ]
  },
  {
   "cell_type": "code",
   "execution_count": null,
   "id": "631ed24a",
   "metadata": {},
   "outputs": [],
   "source": [
    "from collections import Counter\n",
    "import matplotlib.pyplot as plt\n",
    "\n",
    "# Flatten and count narratives\n",
    "narratives_flat = [narr for sublist in df['narratives'] for narr in (sublist.tolist() if hasattr(sublist, 'tolist') else list(sublist))]\n",
    "narrative_counts = Counter(narratives_flat)\n",
    "\n",
    "plt.figure(figsize=(12, 6))\n",
    "plt.bar(list(narrative_counts.keys()), list(narrative_counts.values()))\n",
    "plt.xticks(rotation=90)\n",
    "plt.title('Narrative Distribution')\n",
    "plt.xlabel('Narrative')\n",
    "plt.ylabel('Count')\n",
    "plt.tight_layout()\n",
    "plt.show()\n",
    "\n",
    "# Flatten and count subnarratives\n",
    "subnarratives_flat = [subnarr for sublist in df['subnarratives'] for subnarr in (sublist.tolist() if hasattr(sublist, 'tolist') else list(sublist))]\n",
    "subnarrative_counts = Counter(subnarratives_flat)\n",
    "\n",
    "plt.figure(figsize=(14, 6))\n",
    "plt.bar(list(subnarrative_counts.keys()), list(subnarrative_counts.values()))\n",
    "plt.xticks(rotation=90)\n",
    "plt.title('Subnarrative Distribution')\n",
    "plt.xlabel('Subnarrative')\n",
    "plt.ylabel('Count')\n",
    "plt.tight_layout()\n",
    "plt.show()"
   ]
  },
  {
   "cell_type": "code",
   "execution_count": null,
   "id": "f9aa429c",
   "metadata": {},
   "outputs": [],
   "source": [
    "from matplotlib import cm\n",
    "import numpy as np\n",
    "\n",
    "narrative_counts = Counter([narr for sublist in df['narratives'] for narr in sublist])\n",
    "labels = list(narrative_counts.keys())\n",
    "sizes = list(narrative_counts.values())\n",
    "\n",
    "# Custom color list (prettier and more distinct)\n",
    "custom_colors = [\n",
    "    '#4E79A7', '#F28E2B', '#E15759', '#76B7B2', '#59A14F',\n",
    "    '#EDC948', '#B07AA1', '#FF9DA7', '#9C755F', '#BAB0AC',\n",
    "    '#A0CBE8', '#FFBE7D', '#FF9D9A', '#86BCB6', '#8CD17D',\n",
    "    '#F1CE63', '#D4A6C8', '#FABFD2', '#D7B5A6', '#DCDBC1'\n",
    "]\n",
    "# Repeat colors if there are more labels than colors\n",
    "colors = (custom_colors * ((len(labels) // len(custom_colors)) + 1))[:len(labels)]\n",
    "\n",
    "plt.figure(figsize=(8, 8))\n",
    "wedges, texts = plt.pie(sizes, colors=colors, startangle=140)\n",
    "plt.title('Narrative Proportions')\n",
    "\n",
    "# Add legend with labels\n",
    "plt.legend(wedges, labels, title=\"Narratives\", loc=\"center left\", bbox_to_anchor=(1, 0.5))\n",
    "plt.tight_layout()\n",
    "plt.show()"
   ]
  },
  {
   "cell_type": "markdown",
   "id": "38ab2d83",
   "metadata": {},
   "source": [
    "# Number of documents with a certain number of labels"
   ]
  },
  {
   "cell_type": "code",
   "execution_count": null,
   "id": "79256c30",
   "metadata": {},
   "outputs": [],
   "source": [
    "df['num_narratives'] = df['narratives'].apply(lambda x: len(x) if isinstance(x, list) else 0)\n",
    "df['num_subnarratives'] = df['subnarratives'].apply(lambda x: len(x) if isinstance(x, list) else 0)\n"
   ]
  },
  {
   "cell_type": "code",
   "execution_count": null,
   "id": "b1c8f9a4",
   "metadata": {},
   "outputs": [],
   "source": [
    "# Plot number of documents per number of narratives\n",
    "plt.figure(figsize=(8, 4))\n",
    "df['num_narratives'].value_counts().sort_index().plot(kind='bar')\n",
    "plt.xlabel('Number of Narratives')\n",
    "plt.ylabel('Number of Documents')\n",
    "plt.title('Documents per Number of Narratives')\n",
    "plt.tight_layout()\n",
    "plt.show()\n",
    "\n",
    "# Plot number of documents per number of subnarratives\n",
    "plt.figure(figsize=(8, 4))\n",
    "df['num_subnarratives'].value_counts().sort_index().plot(kind='bar')\n",
    "plt.xlabel('Number of Subnarratives')\n",
    "plt.ylabel('Number of Documents')\n",
    "plt.title('Documents per Number of Subnarratives')\n",
    "plt.tight_layout()\n",
    "plt.show()"
   ]
  },
  {
   "cell_type": "markdown",
   "id": "ba8c86e0",
   "metadata": {},
   "source": [
    "# Number of documents per language"
   ]
  },
  {
   "cell_type": "code",
   "execution_count": null,
   "id": "91fbdb27",
   "metadata": {},
   "outputs": [],
   "source": [
    "languge_documents_counts = df['language'].value_counts()\n",
    "plt.figure(figsize=(8, 4))\n",
    "languge_documents_counts.plot(kind='bar')\n",
    "plt.xlabel('Language')\n",
    "plt.ylabel('Number of Documents')\n",
    "plt.title('Number of Documents per Language')\n",
    "plt.tight_layout()\n",
    "plt.show()"
   ]
  },
  {
   "cell_type": "code",
   "execution_count": null,
   "id": "e77f8908",
   "metadata": {},
   "outputs": [],
   "source": [
    "avg_narr_labels_by_lang = df.groupby('language')['num_narratives'].mean().sort_values(ascending=False)\n",
    "plt.figure(figsize=(10, 6))\n",
    "avg_narr_labels_by_lang.plot(kind='bar')\n",
    "plt.title('Average Number of Narrative Labels per Document by Language')\n",
    "plt.xlabel('Language')\n",
    "plt.ylabel('Average Narrative Labels')\n",
    "plt.xticks(rotation=45)\n",
    "plt.tight_layout()\n",
    "plt.show()\n",
    "\n",
    "avg_subnarr_labels_by_lang = df.groupby('language')['num_subnarratives'].mean().sort_values(ascending=False)\n",
    "plt.figure(figsize=(10, 6))\n",
    "avg_subnarr_labels_by_lang.plot(kind='bar')\n",
    "plt.title('Average Number of Subnarrative Labels per Document by Language')\n",
    "plt.xlabel('Language')\n",
    "plt.ylabel('Average Subnarrative Labels')\n",
    "plt.xticks(rotation=45)\n",
    "plt.tight_layout()\n",
    "plt.show()"
   ]
  },
  {
   "cell_type": "markdown",
   "id": "f60dd781",
   "metadata": {},
   "source": [
    "# Labels distribution per language\n",
    "\n"
   ]
  },
  {
   "cell_type": "code",
   "execution_count": null,
   "id": "7d1a162d",
   "metadata": {},
   "outputs": [],
   "source": [
    "\n",
    "import seaborn as sns\n",
    "import matplotlib.pyplot as plt\n",
    "\n",
    "# Explode narratives and subnarratives to have one row per label per document\n",
    "df_exploded_narratives = df.explode('narratives')\n",
    "df_exploded_subnarratives = df.explode('subnarratives')\n",
    "\n",
    "# Calculate narrative label distribution per language\n",
    "narrative_lang_dist = pd.crosstab(df_exploded_narratives['language'], df_exploded_narratives['narratives'])\n",
    "\n",
    "# Calculate subnarrative label distribution per language\n",
    "subnarrative_lang_dist = pd.crosstab(df_exploded_subnarratives['language'], df_exploded_subnarratives['subnarratives'])\n",
    "\n",
    "# Plot heatmap for narratives\n",
    "plt.figure(figsize=(15, 8))\n",
    "sns.heatmap(narrative_lang_dist, annot=True, fmt=\"d\", cmap=\"viridis\")\n",
    "plt.title('Narrative Label Distribution per Language')\n",
    "plt.ylabel('Language')\n",
    "plt.xlabel('Narrative')\n",
    "plt.xticks(rotation=45, ha='right')\n",
    "plt.yticks(rotation=0)\n",
    "plt.tight_layout()\n",
    "plt.show()\n",
    "\n",
    "# Plot heatmap for subnarratives\n",
    "plt.figure(figsize=(18, 10))\n",
    "sns.heatmap(subnarrative_lang_dist, annot=True, fmt=\"d\", cmap=\"viridis\")\n",
    "plt.title('Subnarrative Label Distribution per Language')\n",
    "plt.ylabel('Language')\n",
    "plt.xlabel('Subnarrative')\n",
    "plt.xticks(rotation=90)\n",
    "plt.yticks(rotation=0)\n",
    "plt.tight_layout()\n",
    "plt.show()\n"
   ]
  },
  {
   "cell_type": "markdown",
   "id": "3198a41b",
   "metadata": {},
   "source": [
    "# Label cooccurrence"
   ]
  },
  {
   "cell_type": "code",
   "execution_count": null,
   "id": "07187799",
   "metadata": {},
   "outputs": [],
   "source": [
    "# Compute the cooccurrence matrix for narrative labels\n",
    "from itertools import combinations\n",
    "import numpy as np\n",
    "\n",
    "# Create a zero-filled DataFrame for cooccurrence\n",
    "narratives_list = sorted(set(narr for sublist in df['narratives'] for narr in sublist))\n",
    "cooccurrence_matrix = pd.DataFrame(0.0, index=narratives_list, columns=narratives_list)\n",
    "\n",
    "# Count cooccurrences\n",
    "for labels in df['narratives']:\n",
    "    for a, b in combinations(sorted(set(labels)), 2):\n",
    "        cooccurrence_matrix.loc[a, b] += 1\n",
    "        cooccurrence_matrix.loc[b, a] += 1\n",
    "\n",
    "# Set diagonal to NaN so it appears as gray in the heatmap\n",
    "np.fill_diagonal(cooccurrence_matrix.values, np.nan)\n",
    "\n",
    "plt.figure(figsize=(14, 12))\n",
    "sns.heatmap(\n",
    "    cooccurrence_matrix,\n",
    "    annot=True,  # Show numbers\n",
    "    fmt='.0f',   # No decimals\n",
    "    cmap=\"viridis\",  # Different color scheme\n",
    "    square=True,\n",
    "    mask=np.isnan(cooccurrence_matrix),\n",
    "    cbar_kws={'label': 'Cooccurrence Count'},\n",
    "    linewidths=0.5,\n",
    "    linecolor='gray',\n",
    ")\n",
    "plt.title('Narrative Label Cooccurrence Heatmap (Diagonal = Gray)')\n",
    "plt.xlabel('Narrative Label')\n",
    "plt.ylabel('Narrative Label')\n",
    "plt.xticks(rotation=90)\n",
    "plt.yticks(rotation=0)\n",
    "plt.tight_layout()\n",
    "plt.show()"
   ]
  },
  {
   "cell_type": "code",
   "execution_count": null,
   "id": "16246666",
   "metadata": {},
   "outputs": [],
   "source": [
    "# Calculate word counts for each document and plot histogram by bins\n",
    "\n",
    "def count_words(text):\n",
    "    if isinstance(text, str):\n",
    "        return len(text.split())\n",
    "    return 0\n",
    "\n",
    "# If your dataframe has a column like 'text' or 'document', adjust the column name below:\n",
    "df['word_count'] = df['text'].apply(count_words)\n",
    "\n",
    "# Define bins for word counts (adjust as needed)\n",
    "bins = [0, 100, 250, 500, 1000, 2000, 5000, 10000, float('inf')]\n",
    "labels = ['0-100', '101-250', '251-500', '501-1000', '1001-2000', '2001-5000', '5001-10000', '10000+']\n",
    "df['word_count_bin'] = pd.cut(df['word_count'], bins=bins, labels=labels, right=True)\n",
    "\n",
    "# Plot histogram of document counts per bin\n",
    "plt.figure(figsize=(10, 6))\n",
    "df['word_count_bin'].value_counts(sort=False).plot(kind='bar', color='skyblue', edgecolor='black')\n",
    "plt.xlabel('Word Count Bin')\n",
    "plt.ylabel('Number of Documents')\n",
    "plt.title('Document Count per Word Count Bin')\n",
    "plt.xticks(rotation=45)\n",
    "plt.tight_layout()\n",
    "plt.show()"
   ]
  },
  {
   "cell_type": "code",
   "execution_count": null,
   "id": "a9d22078",
   "metadata": {},
   "outputs": [],
   "source": [
    "# Boxplot for document word counts\n",
    "plt.figure(figsize=(8, 6))\n",
    "sns.boxplot(y=df['word_count'], color='lightgreen')\n",
    "plt.ylabel('Word Count')\n",
    "plt.title('Boxplot of Document Word Counts')\n",
    "plt.tight_layout()\n",
    "plt.show()"
   ]
  },
  {
   "cell_type": "code",
   "execution_count": null,
   "id": "1a7f52d2",
   "metadata": {},
   "outputs": [],
   "source": [
    "df.to_parquet('data/processed/phase0_baseline.parquet', index=False)"
   ]
  }
 ],
 "metadata": {
  "kernelspec": {
   "display_name": ".venv",
   "language": "python",
   "name": "python3"
  },
  "language_info": {
   "codemirror_mode": {
    "name": "ipython",
    "version": 3
   },
   "file_extension": ".py",
   "mimetype": "text/x-python",
   "name": "python",
   "nbconvert_exporter": "python",
   "pygments_lexer": "ipython3",
   "version": "3.12.3"
  }
 },
 "nbformat": 4,
 "nbformat_minor": 5
}
