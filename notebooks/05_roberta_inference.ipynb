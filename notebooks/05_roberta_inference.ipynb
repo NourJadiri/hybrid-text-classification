{
 "cells": [
  {
   "cell_type": "code",
   "execution_count": 1,
   "id": "69250ef1",
   "metadata": {},
   "outputs": [
    {
     "name": "stderr",
     "output_type": "stream",
     "text": [
      "/home/twoface/Documents/Passau/masterarbeit/hybrid-text-classification/.venv/lib/python3.12/site-packages/tqdm/auto.py:21: TqdmWarning: IProgress not found. Please update jupyter and ipywidgets. See https://ipywidgets.readthedocs.io/en/stable/user_install.html\n",
      "  from .autonotebook import tqdm as notebook_tqdm\n"
     ]
    }
   ],
   "source": [
    "import pandas as pd\n",
    "from tqdm.auto import tqdm\n",
    "import os\n",
    "import sys\n",
    "\n",
    "\n",
    "sys.path.append(os.path.abspath(os.path.join(os.getcwd(), '..')))\n",
    "# Set the current working directory to the project root\n",
    "ROOT_DIR = os.path.abspath(os.path.join(os.getcwd(), '..'))\n",
    "os.chdir(ROOT_DIR)"
   ]
  },
  {
   "cell_type": "code",
   "execution_count": 2,
   "id": "8baa5757",
   "metadata": {},
   "outputs": [],
   "source": [
    "from src.inference.narrative_predictor import NarrativePredictor\n",
    "\n",
    "MODEL_PATH = 'models/phase0_xlmr_best_model.bin'\n",
    "TOKENIZER_NAME = 'xlm-roberta-base'\n",
    "TEST_ARTICLES_PATH = 'devset/EN/subtask-2-documents/'\n",
    "OUTPUT_FILE = 'devset/en_predictions.txt'\n",
    "OPTIMAL_THRESHOLD = 0.86"
   ]
  },
  {
   "cell_type": "code",
   "execution_count": 3,
   "id": "1967ef00",
   "metadata": {},
   "outputs": [],
   "source": [
    "def load_articles(folder_path):\n",
    "    \"\"\"Loads all .txt files from a folder.\"\"\"\n",
    "    articles = []\n",
    "    for filename in os.listdir(folder_path):\n",
    "        if filename.endswith(\".txt\"):\n",
    "            with open(os.path.join(folder_path, filename), 'r', encoding='utf-8') as f:\n",
    "                articles.append({'article_id': filename, 'text': f.read()})\n",
    "    return pd.DataFrame(articles)"
   ]
  },
  {
   "cell_type": "code",
   "execution_count": 4,
   "id": "44683b4a",
   "metadata": {},
   "outputs": [],
   "source": [
    "from src.data_management.label_parser import get_label_mappings\n",
    "\n",
    "label_to_id, id_to_label, narrative_to_subnarrative_ids = get_label_mappings()\n",
    "sub_to_narr_id_map = {}\n",
    "\n",
    "# Create a mapping from sub-narrative IDs to their parent narrative IDs\n",
    "for narr_id, sub_ids_list in narrative_to_subnarrative_ids.items():\n",
    "    for sub_id in sub_ids_list:\n",
    "        sub_to_narr_id_map[sub_id] = narr_id\n",
    "\n",
    "\n",
    "parent_child_pairs = list(sub_to_narr_id_map.items())"
   ]
  },
  {
   "cell_type": "code",
   "execution_count": 5,
   "id": "506c8270",
   "metadata": {},
   "outputs": [
    {
     "name": "stdout",
     "output_type": "stream",
     "text": [
      "initializing the Narrative Predictor...\n",
      "Using device: cuda\n"
     ]
    },
    {
     "name": "stderr",
     "output_type": "stream",
     "text": [
      "Some weights of XLMRobertaForSequenceClassification were not initialized from the model checkpoint at xlm-roberta-base and are newly initialized: ['classifier.dense.bias', 'classifier.dense.weight', 'classifier.out_proj.bias', 'classifier.out_proj.weight']\n",
      "You should probably TRAIN this model on a down-stream task to be able to use it for predictions and inference.\n"
     ]
    },
    {
     "name": "stdout",
     "output_type": "stream",
     "text": [
      "Predictor initialized and ready.\n",
      "Threshold set to: 0.86\n"
     ]
    }
   ],
   "source": [
    "label_maps = {\n",
    "        \"id2label\": id_to_label,\n",
    "        \"label2id\": label_to_id,\n",
    "        \"parent_child_pairs\": parent_child_pairs\n",
    "    }\n",
    "\n",
    "# --- 2. Initialize the Predictor ---\n",
    "# This loads the model and tokenizer only once.\n",
    "predictor = NarrativePredictor(MODEL_PATH, TOKENIZER_NAME, label_maps)\n",
    "\n",
    "# --- 3. Set the Optimal Threshold ---\n",
    "predictor.set_threshold(OPTIMAL_THRESHOLD)"
   ]
  },
  {
   "cell_type": "code",
   "execution_count": 6,
   "id": "5a0784ab",
   "metadata": {},
   "outputs": [
    {
     "name": "stdout",
     "output_type": "stream",
     "text": [
      "Loading articles from devset/EN/subtask-2-documents/...\n"
     ]
    }
   ],
   "source": [
    "print(f\"Loading articles from {TEST_ARTICLES_PATH}...\")\n",
    "df_test = load_articles(TEST_ARTICLES_PATH)\n",
    "texts_to_predict = df_test['text'].tolist()"
   ]
  },
  {
   "cell_type": "code",
   "execution_count": 7,
   "id": "7dbf776d",
   "metadata": {},
   "outputs": [
    {
     "name": "stdout",
     "output_type": "stream",
     "text": [
      "--- Verifying id2label map integrity ---\n",
      "Number of labels in the provided id2label map: 117\n",
      "Number of labels the model was configured with: 117\n",
      "{'CC: Amplifying Climate Fears': 0, 'CC: Climate change is beneficial': 1, 'CC: Controversy about green technologies': 2, 'CC: Criticism of climate movement': 3, 'CC: Criticism of climate policies': 4, 'CC: Criticism of institutions and authorities': 5, 'CC: Downplaying climate change': 6, 'CC: Green policies are geopolitical instruments': 7, 'CC: Hidden plots by secret schemes of powerful groups': 8, 'CC: Questioning the measurements and science': 9, 'Other': 10, 'URW: Amplifying war-related fears': 11, 'URW: Blaming the war on others rather than the invader': 12, 'URW: Discrediting Ukraine': 13, 'URW: Discrediting the West, Diplomacy': 14, 'URW: Distrust towards Media': 15, 'URW: Hidden plots by secret schemes of powerful groups': 16, 'URW: Negative Consequences for the West': 17, 'URW: Overpraising the West': 18, 'URW: Praise of Russia': 19, 'URW: Russia is the Victim': 20, 'URW: Speculating war outcomes': 21, 'CC: Amplifying Climate Fears: Amplifying existing fears of global warming': 22, 'CC: Amplifying Climate Fears: Doomsday scenarios for humans': 23, 'CC: Amplifying Climate Fears: Earth will be uninhabitable soon': 24, 'CC: Amplifying Climate Fears: Other': 25, 'CC: Amplifying Climate Fears: Whatever we do it is already too late': 26, 'CC: Climate change is beneficial: CO2 is beneficial': 27, 'CC: Climate change is beneficial: Other': 28, 'CC: Climate change is beneficial: Temperature increase is beneficial': 29, 'CC: Controversy about green technologies: Nuclear energy is not climate friendly': 30, 'CC: Controversy about green technologies: Other': 31, 'CC: Controversy about green technologies: Renewable energy is costly': 32, 'CC: Controversy about green technologies: Renewable energy is dangerous': 33, 'CC: Controversy about green technologies: Renewable energy is unreliable': 34, 'CC: Criticism of climate movement: Ad hominem attacks on key activists': 35, 'CC: Criticism of climate movement: Climate movement is alarmist': 36, 'CC: Criticism of climate movement: Climate movement is corrupt': 37, 'CC: Criticism of climate movement: Other': 38, 'CC: Criticism of climate policies: Climate policies are ineffective': 39, 'CC: Criticism of climate policies: Climate policies are only for profit': 40, 'CC: Criticism of climate policies: Climate policies have negative impact on the economy': 41, 'CC: Criticism of climate policies: Other': 42, 'CC: Criticism of institutions and authorities: Criticism of international entities': 43, 'CC: Criticism of institutions and authorities: Criticism of national governments': 44, 'CC: Criticism of institutions and authorities: Criticism of political organizations and figures': 45, 'CC: Criticism of institutions and authorities: Criticism of the EU': 46, 'CC: Criticism of institutions and authorities: Other': 47, 'CC: Downplaying climate change: CO2 concentrations are too small to have an impact': 48, 'CC: Downplaying climate change: Climate cycles are natural': 49, 'CC: Downplaying climate change: Human activities do not impact climate change': 50, 'CC: Downplaying climate change: Humans and nature will adapt to the changes': 51, 'CC: Downplaying climate change: Ice is not melting': 52, 'CC: Downplaying climate change: Other': 53, 'CC: Downplaying climate change: Sea levels are not rising': 54, 'CC: Downplaying climate change: Temperature increase does not have significant impact': 55, 'CC: Downplaying climate change: Weather suggests the trend is global cooling': 56, 'CC: Green policies are geopolitical instruments: Climate-related international relations are abusive/exploitative': 57, 'CC: Green policies are geopolitical instruments: Green activities are a form of neo-colonialism': 58, 'CC: Green policies are geopolitical instruments: Other': 59, 'CC: Hidden plots by secret schemes of powerful groups: Blaming global elites': 60, 'CC: Hidden plots by secret schemes of powerful groups: Climate agenda has hidden motives': 61, 'CC: Hidden plots by secret schemes of powerful groups: Other': 62, 'CC: Questioning the measurements and science: Data shows no temperature increase': 63, 'CC: Questioning the measurements and science: Greenhouse effect/carbon dioxide do not drive climate change': 64, 'CC: Questioning the measurements and science: Methodologies/metrics used are unreliable/faulty': 65, 'CC: Questioning the measurements and science: Other': 66, 'CC: Questioning the measurements and science: Scientific community is unreliable': 67, 'URW: Amplifying war-related fears: By continuing the war we risk WWIII': 68, 'URW: Amplifying war-related fears: NATO should/will directly intervene': 69, 'URW: Amplifying war-related fears: Other': 70, 'URW: Amplifying war-related fears: Russia will also attack other countries': 71, 'URW: Amplifying war-related fears: There is a real possibility that nuclear weapons will be employed': 72, 'URW: Blaming the war on others rather than the invader: Other': 73, 'URW: Blaming the war on others rather than the invader: The West are the aggressors': 74, 'URW: Blaming the war on others rather than the invader: Ukraine is the aggressor': 75, 'URW: Discrediting Ukraine: Discrediting Ukrainian government and officials and policies': 76, 'URW: Discrediting Ukraine: Discrediting Ukrainian military': 77, 'URW: Discrediting Ukraine: Discrediting Ukrainian nation and society': 78, 'URW: Discrediting Ukraine: Other': 79, 'URW: Discrediting Ukraine: Rewriting Ukraine’s history': 80, 'URW: Discrediting Ukraine: Situation in Ukraine is hopeless': 81, 'URW: Discrediting Ukraine: Ukraine is a hub for criminal activities': 82, 'URW: Discrediting Ukraine: Ukraine is a puppet of the West': 83, 'URW: Discrediting Ukraine: Ukraine is associated with nazism': 84, 'URW: Discrediting the West, Diplomacy: Diplomacy does/will not work': 85, 'URW: Discrediting the West, Diplomacy: Other': 86, 'URW: Discrediting the West, Diplomacy: The EU is divided': 87, 'URW: Discrediting the West, Diplomacy: The West does not care about Ukraine, only about its interests': 88, 'URW: Discrediting the West, Diplomacy: The West is overreacting': 89, 'URW: Discrediting the West, Diplomacy: The West is weak': 90, 'URW: Discrediting the West, Diplomacy: West is tired of Ukraine': 91, 'URW: Distrust towards Media: Other': 92, 'URW: Distrust towards Media: Ukrainian media cannot be trusted': 93, 'URW: Distrust towards Media: Western media is an instrument of propaganda': 94, 'URW: Hidden plots by secret schemes of powerful groups: Other': 95, 'URW: Negative Consequences for the West: Other': 96, 'URW: Negative Consequences for the West: Sanctions imposed by Western countries will backfire': 97, 'URW: Negative Consequences for the West: The conflict will increase the Ukrainian refugee flows to Europe': 98, 'URW: Overpraising the West: NATO will destroy Russia': 99, 'URW: Overpraising the West: Other': 100, 'URW: Overpraising the West: The West belongs in the right side of history': 101, 'URW: Overpraising the West: The West has the strongest international support': 102, 'URW: Praise of Russia: Other': 103, 'URW: Praise of Russia: Praise of Russian President Vladimir Putin': 104, 'URW: Praise of Russia: Praise of Russian military might': 105, 'URW: Praise of Russia: Russia has international support from a number of countries and people': 106, 'URW: Praise of Russia: Russia is a guarantor of peace and prosperity': 107, 'URW: Praise of Russia: Russian invasion has strong national support': 108, 'URW: Russia is the Victim: Other': 109, 'URW: Russia is the Victim: Russia actions in Ukraine are only self-defence': 110, 'URW: Russia is the Victim: The West is russophobic': 111, 'URW: Russia is the Victim: UA is anti-RU extremists': 112, 'URW: Speculating war outcomes: Other': 113, 'URW: Speculating war outcomes: Russian army is collapsing': 114, 'URW: Speculating war outcomes: Russian army will lose all the occupied territories': 115, 'URW: Speculating war outcomes: Ukrainian army is collapsing': 116}\n"
     ]
    }
   ],
   "source": [
    "print(\"--- Verifying id2label map integrity ---\")\n",
    "num_labels_in_map = len(predictor.id2label)\n",
    "num_labels_in_model = predictor.model.config.num_labels\n",
    "\n",
    "print(f\"Number of labels in the provided id2label map: {num_labels_in_map}\")\n",
    "print(f\"Number of labels the model was configured with: {num_labels_in_model}\")\n",
    "\n",
    "if num_labels_in_map != num_labels_in_model:\n",
    "    print(\"!! FATAL ERROR: Mismatch between map size and model's number of labels.\")\n",
    "\n",
    "\n",
    "print(predictor.label2id)"
   ]
  },
  {
   "cell_type": "code",
   "execution_count": 9,
   "id": "a628158c",
   "metadata": {},
   "outputs": [
    {
     "data": {
      "text/plain": [
       "{'narratives': ['CC: Amplifying Climate Fears',\n",
       "  'CC: Criticism of climate movement',\n",
       "  'CC: Criticism of climate policies',\n",
       "  'CC: Criticism of institutions and authorities',\n",
       "  'CC: Hidden plots by secret schemes of powerful groups'],\n",
       " 'subnarratives': ['CC: Amplifying Climate Fears: Other',\n",
       "  'CC: Criticism of climate movement: Other',\n",
       "  'CC: Criticism of climate policies: Other',\n",
       "  'CC: Criticism of institutions and authorities: Criticism of national governments',\n",
       "  'CC: Criticism of institutions and authorities: Criticism of political organizations and figures',\n",
       "  'CC: Hidden plots by secret schemes of powerful groups: Other']}"
      ]
     },
     "execution_count": 9,
     "metadata": {},
     "output_type": "execute_result"
    }
   ],
   "source": [
    "predictor.predict(texts_to_predict[0])"
   ]
  }
 ],
 "metadata": {
  "kernelspec": {
   "display_name": ".venv",
   "language": "python",
   "name": "python3"
  },
  "language_info": {
   "codemirror_mode": {
    "name": "ipython",
    "version": 3
   },
   "file_extension": ".py",
   "mimetype": "text/x-python",
   "name": "python",
   "nbconvert_exporter": "python",
   "pygments_lexer": "ipython3",
   "version": "3.12.3"
  }
 },
 "nbformat": 4,
 "nbformat_minor": 5
}
