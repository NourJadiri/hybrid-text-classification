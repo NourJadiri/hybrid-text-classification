{
 "cells": [
  {
   "cell_type": "code",
   "execution_count": 1,
   "id": "7d1c20e7",
   "metadata": {},
   "outputs": [],
   "source": [
    "import pandas as pd\n",
    "import os\n",
    "import sys\n",
    "import numpy as np\n",
    "\n",
    "sys.path.append(os.path.abspath(os.path.join(os.getcwd(), '..')))\n",
    "# Set the current working directory to the project root\n",
    "ROOT_DIR = os.path.abspath(os.path.join(os.getcwd(), '..'))\n",
    "os.chdir(ROOT_DIR)"
   ]
  },
  {
   "cell_type": "code",
   "execution_count": 2,
   "id": "6d6d123b",
   "metadata": {},
   "outputs": [
    {
     "name": "stderr",
     "output_type": "stream",
     "text": [
      "/home/twoface/Documents/Passau/masterarbeit/hybrid-text-classification/.venv/lib/python3.12/site-packages/tqdm/auto.py:21: TqdmWarning: IProgress not found. Please update jupyter and ipywidgets. See https://ipywidgets.readthedocs.io/en/stable/user_install.html\n",
      "  from .autonotebook import tqdm as notebook_tqdm\n"
     ]
    }
   ],
   "source": [
    "import pandas as pd\n",
    "import json\n",
    "from tqdm.auto import tqdm\n",
    "import time\n",
    "import os\n",
    "\n",
    "from src.llm.chains import create_narrative_generator_chain, create_subnarrative_generator_chain"
   ]
  },
  {
   "cell_type": "code",
   "execution_count": 3,
   "id": "f1c27288",
   "metadata": {},
   "outputs": [
    {
     "name": "stdout",
     "output_type": "stream",
     "text": [
      "--- Updating label formats in source CSVs ---\n",
      "\n",
      "--- Loading data for augmentation ---\n",
      "Loading target narratives...\n",
      "Loading target subnarratives...\n",
      "Data loaded.\n"
     ]
    }
   ],
   "source": [
    "from src.data_management.label_parser import parse_json_for_narratives_subnarratives\n",
    "import pandas as pd\n",
    "\n",
    "print(\"--- Updating label formats in source CSVs ---\")\n",
    "\n",
    "# --- Load data for augmentation ---\n",
    "print(\"\\n--- Loading data for augmentation ---\")\n",
    "\n",
    "print(\"Loading target narratives...\")\n",
    "target_narratives_df = pd.read_csv(\"least_perf_narratives.csv\")\n",
    "\n",
    "print(\"Loading target subnarratives...\")\n",
    "target_subnarratives_df = pd.read_csv(\"least_perf_subnarratives.csv\")\n",
    "\n",
    "target_narratives_list = target_narratives_df['label'].tolist()\n",
    "target_subnarratives_list = target_subnarratives_df['label'].tolist()\n",
    "\n",
    "narrative_definitions_df = pd.read_csv(\"data/narrative_definitions.csv\")\n",
    "subnarrative_definitions_df = pd.read_csv(\"data/subnarrative_definitions.csv\")\n",
    "\n",
    "print(\"Data loaded.\")\n",
    "\n"
   ]
  },
  {
   "cell_type": "code",
   "execution_count": 4,
   "id": "64f37381",
   "metadata": {
    "vscode": {
     "languageId": "ruby"
    }
   },
   "outputs": [],
   "source": [
    "target_narratives_df['definition'] = target_narratives_df['label'].apply(\n",
    "    lambda x: narrative_definitions_df[narrative_definitions_df['narrative'] == x]['definition'].values[0] if x in narrative_definitions_df['narrative'].values else None\n",
    ")\n",
    "\n",
    "target_narratives_df['examples'] = target_narratives_df['label'].apply(\n",
    "    lambda x: narrative_definitions_df[narrative_definitions_df['narrative'] == x]['example'].values[0] if x in narrative_definitions_df['narrative'].values else None\n",
    ")\n",
    "\n",
    "target_subnarratives_df['definition'] = target_subnarratives_df['label'].apply(\n",
    "    lambda x: subnarrative_definitions_df[subnarrative_definitions_df['subnarrative'] == x]['definition'].values[0] if x in subnarrative_definitions_df['subnarrative'].values else None\n",
    ")\n",
    "\n",
    "target_subnarratives_df['examples'] = target_subnarratives_df['label'].apply(\n",
    "    lambda x: subnarrative_definitions_df[subnarrative_definitions_df['subnarrative'] == x]['examples'].values[0] if x in subnarrative_definitions_df['subnarrative'].values else None\n",
    ")"
   ]
  },
  {
   "cell_type": "code",
   "execution_count": 5,
   "id": "63d51812",
   "metadata": {
    "vscode": {
     "languageId": "ruby"
    }
   },
   "outputs": [
    {
     "name": "stdout",
     "output_type": "stream",
     "text": [
      "Creating generator chain...\n",
      "Generator chain created successfully.\n",
      "Creating sub-narrative generator chain...\n",
      "Sub-narrative generator chain created successfully.\n"
     ]
    }
   ],
   "source": [
    "NUM_EXAMPLES_PER_LABEL = 10\n",
    "\n",
    "narrative_generator = create_narrative_generator_chain()\n",
    "subnarrative_generator = create_subnarrative_generator_chain()"
   ]
  },
  {
   "cell_type": "code",
   "execution_count": 6,
   "id": "b5a4e306",
   "metadata": {},
   "outputs": [],
   "source": [
    "# from tqdm.auto import tqdm\n",
    "\n",
    "# generated_narrative_texts = []\n",
    "\n",
    "# for idx, row in tqdm(target_narratives_df.iterrows(), total=len(target_narratives_df)):\n",
    "#     print(f\"Generating narratives for label: {row['label']}\")\n",
    "#     texts = []\n",
    "#     # Prepare input for the generator\n",
    "#     input_dict = {\n",
    "#         \"narrative_name\": row['label'],\n",
    "#         \"narrative_def\": row['definition'],\n",
    "#         \"num_examples\": NUM_EXAMPLES_PER_LABEL,\n",
    "#         \"narrative_example\": row['examples'] if pd.notnull(row['examples']) else \"\",\n",
    "#         \"format_instructions\": \"Return only the generated text as a string.\"\n",
    "#     }\n",
    "    \n",
    "#     result = narrative_generator.invoke(input_dict)\n",
    "#     # Extract the generated text from the result\n",
    "#     articles = result.articles  # Access the articles from the Pydantic object\n",
    "#     texts = [article.generated_text for article in articles]  # Extract the generated text from each article\n",
    "#     generated_narrative_texts.append(texts)\n",
    "\n",
    "# # Add the generated texts to the DataFrame\n",
    "# target_narratives_df['generated_texts'] = generated_narrative_texts\n",
    "\n"
   ]
  },
  {
   "cell_type": "code",
   "execution_count": 7,
   "id": "08e69dbe",
   "metadata": {},
   "outputs": [
    {
     "name": "stderr",
     "output_type": "stream",
     "text": [
      "  0%|          | 0/28 [00:00<?, ?it/s]"
     ]
    },
    {
     "name": "stdout",
     "output_type": "stream",
     "text": [
      "Generating subnarratives for label: CC: Controversy about green technologies: Nuclear energy is not climate friendly\n"
     ]
    },
    {
     "name": "stderr",
     "output_type": "stream",
     "text": [
      "  4%|▎         | 1/28 [00:33<15:09, 33.70s/it]"
     ]
    },
    {
     "name": "stdout",
     "output_type": "stream",
     "text": [
      "Generating subnarratives for label: CC: Amplifying Climate Fears: Earth will be uninhabitable soon\n"
     ]
    },
    {
     "name": "stderr",
     "output_type": "stream",
     "text": [
      "  7%|▋         | 2/28 [01:04<13:54, 32.10s/it]"
     ]
    },
    {
     "name": "stdout",
     "output_type": "stream",
     "text": [
      "Generating subnarratives for label: CC: Amplifying Climate Fears: Whatever we do it is already too late\n"
     ]
    },
    {
     "name": "stderr",
     "output_type": "stream",
     "text": [
      " 11%|█         | 3/28 [01:44<14:55, 35.80s/it]"
     ]
    },
    {
     "name": "stdout",
     "output_type": "stream",
     "text": [
      "Generating subnarratives for label: CC: Climate change is beneficial: CO2 is beneficial\n"
     ]
    },
    {
     "name": "stderr",
     "output_type": "stream",
     "text": [
      " 14%|█▍        | 4/28 [02:15<13:25, 33.56s/it]"
     ]
    },
    {
     "name": "stdout",
     "output_type": "stream",
     "text": [
      "Generating subnarratives for label: CC: Climate change is beneficial: Other\n"
     ]
    },
    {
     "name": "stderr",
     "output_type": "stream",
     "text": [
      " 18%|█▊        | 5/28 [02:47<12:44, 33.23s/it]"
     ]
    },
    {
     "name": "stdout",
     "output_type": "stream",
     "text": [
      "Generating subnarratives for label: CC: Controversy about green technologies: Other\n"
     ]
    },
    {
     "name": "stderr",
     "output_type": "stream",
     "text": [
      " 21%|██▏       | 6/28 [03:24<12:37, 34.44s/it]"
     ]
    },
    {
     "name": "stdout",
     "output_type": "stream",
     "text": [
      "Generating subnarratives for label: CC: Climate change is beneficial: Temperature increase is beneficial\n"
     ]
    },
    {
     "name": "stderr",
     "output_type": "stream",
     "text": [
      " 25%|██▌       | 7/28 [03:56<11:46, 33.64s/it]"
     ]
    },
    {
     "name": "stdout",
     "output_type": "stream",
     "text": [
      "Generating subnarratives for label: CC: Downplaying climate change: Human activities do not impact climate change\n"
     ]
    },
    {
     "name": "stderr",
     "output_type": "stream",
     "text": [
      " 29%|██▊       | 8/28 [04:27<10:56, 32.83s/it]"
     ]
    },
    {
     "name": "stdout",
     "output_type": "stream",
     "text": [
      "Generating subnarratives for label: CC: Downplaying climate change: Humans and nature will adapt to the changes\n"
     ]
    },
    {
     "name": "stderr",
     "output_type": "stream",
     "text": [
      " 32%|███▏      | 9/28 [05:05<10:53, 34.39s/it]"
     ]
    },
    {
     "name": "stdout",
     "output_type": "stream",
     "text": [
      "Generating subnarratives for label: CC: Downplaying climate change: Ice is not melting\n"
     ]
    },
    {
     "name": "stderr",
     "output_type": "stream",
     "text": [
      " 36%|███▌      | 10/28 [05:31<09:35, 31.95s/it]"
     ]
    },
    {
     "name": "stdout",
     "output_type": "stream",
     "text": [
      "Generating subnarratives for label: CC: Downplaying climate change: Other\n"
     ]
    },
    {
     "name": "stderr",
     "output_type": "stream",
     "text": [
      " 39%|███▉      | 11/28 [06:09<09:33, 33.74s/it]"
     ]
    },
    {
     "name": "stdout",
     "output_type": "stream",
     "text": [
      "Generating subnarratives for label: CC: Downplaying climate change: Sea levels are not rising\n"
     ]
    },
    {
     "name": "stderr",
     "output_type": "stream",
     "text": [
      " 43%|████▎     | 12/28 [06:44<09:05, 34.07s/it]"
     ]
    },
    {
     "name": "stdout",
     "output_type": "stream",
     "text": [
      "Generating subnarratives for label: CC: Criticism of institutions and authorities: Other\n"
     ]
    },
    {
     "name": "stderr",
     "output_type": "stream",
     "text": [
      " 46%|████▋     | 13/28 [07:19<08:34, 34.30s/it]"
     ]
    },
    {
     "name": "stdout",
     "output_type": "stream",
     "text": [
      "Generating subnarratives for label: CC: Criticism of climate policies: Climate policies are only for profit\n"
     ]
    },
    {
     "name": "stderr",
     "output_type": "stream",
     "text": [
      " 50%|█████     | 14/28 [07:51<07:51, 33.71s/it]"
     ]
    },
    {
     "name": "stdout",
     "output_type": "stream",
     "text": [
      "Generating subnarratives for label: CC: Criticism of institutions and authorities: Criticism of international entities\n"
     ]
    },
    {
     "name": "stderr",
     "output_type": "stream",
     "text": [
      " 54%|█████▎    | 15/28 [08:38<08:09, 37.68s/it]"
     ]
    },
    {
     "name": "stdout",
     "output_type": "stream",
     "text": [
      "Generating subnarratives for label: CC: Criticism of institutions and authorities: Criticism of the EU\n"
     ]
    },
    {
     "name": "stderr",
     "output_type": "stream",
     "text": [
      " 57%|█████▋    | 16/28 [09:09<07:06, 35.52s/it]"
     ]
    },
    {
     "name": "stdout",
     "output_type": "stream",
     "text": [
      "Generating subnarratives for label: CC: Criticism of climate movement: Climate movement is corrupt\n"
     ]
    },
    {
     "name": "stderr",
     "output_type": "stream",
     "text": [
      " 61%|██████    | 17/28 [09:41<06:20, 34.62s/it]"
     ]
    },
    {
     "name": "stdout",
     "output_type": "stream",
     "text": [
      "Generating subnarratives for label: CC: Criticism of climate movement: Ad hominem attacks on key activists\n"
     ]
    },
    {
     "name": "stderr",
     "output_type": "stream",
     "text": [
      " 64%|██████▍   | 18/28 [10:14<05:40, 34.08s/it]"
     ]
    },
    {
     "name": "stdout",
     "output_type": "stream",
     "text": [
      "Generating subnarratives for label: CC: Controversy about green technologies: Renewable energy is unreliable\n"
     ]
    },
    {
     "name": "stderr",
     "output_type": "stream",
     "text": [
      " 68%|██████▊   | 19/28 [10:42<04:50, 32.31s/it]"
     ]
    },
    {
     "name": "stdout",
     "output_type": "stream",
     "text": [
      "Generating subnarratives for label: CC: Controversy about green technologies: Renewable energy is dangerous\n"
     ]
    },
    {
     "name": "stderr",
     "output_type": "stream",
     "text": [
      " 71%|███████▏  | 20/28 [11:11<04:09, 31.23s/it]"
     ]
    },
    {
     "name": "stdout",
     "output_type": "stream",
     "text": [
      "Generating subnarratives for label: CC: Controversy about green technologies: Renewable energy is costly\n"
     ]
    },
    {
     "name": "stderr",
     "output_type": "stream",
     "text": [
      " 75%|███████▌  | 21/28 [11:43<03:40, 31.56s/it]"
     ]
    },
    {
     "name": "stdout",
     "output_type": "stream",
     "text": [
      "Generating subnarratives for label: CC: Downplaying climate change: Weather suggests the trend is global cooling\n"
     ]
    },
    {
     "name": "stderr",
     "output_type": "stream",
     "text": [
      " 79%|███████▊  | 22/28 [12:18<03:15, 32.61s/it]"
     ]
    },
    {
     "name": "stdout",
     "output_type": "stream",
     "text": [
      "Generating subnarratives for label: CC: Green policies are geopolitical instruments: Climate-related international relations are abusive/exploitative\n"
     ]
    },
    {
     "name": "stderr",
     "output_type": "stream",
     "text": [
      " 82%|████████▏ | 23/28 [12:47<02:36, 31.39s/it]"
     ]
    },
    {
     "name": "stdout",
     "output_type": "stream",
     "text": [
      "Generating subnarratives for label: CC: Green policies are geopolitical instruments: Green activities are a form of neo-colonialism\n"
     ]
    },
    {
     "name": "stderr",
     "output_type": "stream",
     "text": [
      " 86%|████████▌ | 24/28 [13:26<02:15, 33.87s/it]"
     ]
    },
    {
     "name": "stdout",
     "output_type": "stream",
     "text": [
      "Generating subnarratives for label: CC: Green policies are geopolitical instruments: Other\n"
     ]
    },
    {
     "name": "stderr",
     "output_type": "stream",
     "text": [
      " 89%|████████▉ | 25/28 [13:54<01:36, 32.03s/it]"
     ]
    },
    {
     "name": "stdout",
     "output_type": "stream",
     "text": [
      "Generating subnarratives for label: CC: Questioning the measurements and science: Data shows no temperature increase\n"
     ]
    },
    {
     "name": "stderr",
     "output_type": "stream",
     "text": [
      " 93%|█████████▎| 26/28 [14:22<01:01, 30.70s/it]"
     ]
    },
    {
     "name": "stdout",
     "output_type": "stream",
     "text": [
      "Generating subnarratives for label: CC: Hidden plots by secret schemes of powerful groups: Other\n"
     ]
    },
    {
     "name": "stderr",
     "output_type": "stream",
     "text": [
      " 96%|█████████▋| 27/28 [14:50<00:29, 29.92s/it]"
     ]
    },
    {
     "name": "stdout",
     "output_type": "stream",
     "text": [
      "Generating subnarratives for label: CC: Downplaying climate change: Temperature increase does not have significant impact\n"
     ]
    },
    {
     "name": "stderr",
     "output_type": "stream",
     "text": [
      "100%|██████████| 28/28 [15:12<00:00, 32.61s/it]\n",
      "\n"
     ]
    }
   ],
   "source": [
    "from tqdm.auto import tqdm\n",
    "generated_subnarrative_texts = []\n",
    "\n",
    "for idx, row in tqdm(target_subnarratives_df.iterrows(), total=len(target_subnarratives_df)):\n",
    "    print(f\"Generating subnarratives for label: {row['label']}\")\n",
    "    texts = []\n",
    "    # Prepare input for the generator\n",
    "    input_dict = {\n",
    "        \"subnarrative_name\": row['label'],\n",
    "        \"subnarrative_def\": row['definition'],\n",
    "        \"num_examples\": NUM_EXAMPLES_PER_LABEL,\n",
    "        \"subnarrative_example\": row['examples'] if pd.notnull(row['examples']) else \"\",\n",
    "        \"format_instructions\": \"Return only the generated text as a string.\"\n",
    "    }\n",
    "    \n",
    "    result = subnarrative_generator.invoke(input_dict)\n",
    "    # Extract the generated text from the result\n",
    "    articles = result.articles  # Access the articles from the Pydantic object\n",
    "    texts = [article.generated_text for article in articles]  # Extract the generated text from each article\n",
    "    generated_subnarrative_texts.append(texts)\n",
    "    \n",
    "# Add the generated texts to the DataFrame\n",
    "target_subnarratives_df['generated_texts'] = generated_subnarrative_texts\n",
    "\n",
    "# Prepare data for JSON export\n",
    "subnarrative_texts_json = []\n",
    "for i, row in target_subnarratives_df.iterrows():\n",
    "    subnarrative_texts_json.append({\n",
    "        \"subnarrative\": row[\"label\"],\n",
    "        \"generated_texts\": row[\"generated_texts\"]\n",
    "    })\n",
    "# Save to file\n",
    "with open(\"generated_subnarrative_texts.json\", \"w\", encoding=\"utf-8\") as f:\n",
    "    json.dump(subnarrative_texts_json, f, ensure_ascii=False, indent=2)"
   ]
  }
 ],
 "metadata": {
  "kernelspec": {
   "display_name": ".venv",
   "language": "python",
   "name": "python3"
  },
  "language_info": {
   "codemirror_mode": {
    "name": "ipython",
    "version": 3
   },
   "file_extension": ".py",
   "mimetype": "text/x-python",
   "name": "python",
   "nbconvert_exporter": "python",
   "pygments_lexer": "ipython3",
   "version": "3.12.3"
  }
 },
 "nbformat": 4,
 "nbformat_minor": 5
}
