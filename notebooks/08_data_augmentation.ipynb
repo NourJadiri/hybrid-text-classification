{
 "cells": [
  {
   "cell_type": "code",
   "execution_count": null,
   "id": "7d1c20e7",
   "metadata": {},
   "outputs": [],
   "source": [
    "import pandas as pd\n",
    "import os\n",
    "import sys\n",
    "import numpy as np\n",
    "\n",
    "sys.path.append(os.path.abspath(os.path.join(os.getcwd(), '..')))\n",
    "# Set the current working directory to the project root\n",
    "ROOT_DIR = os.path.abspath(os.path.join(os.getcwd(), '..'))\n",
    "os.chdir(ROOT_DIR)"
   ]
  },
  {
   "cell_type": "code",
   "execution_count": null,
   "id": "6d6d123b",
   "metadata": {},
   "outputs": [],
   "source": [
    "import pandas as pd\n",
    "import json\n",
    "from tqdm.auto import tqdm\n",
    "import time\n",
    "import os\n",
    "\n",
    "from src.llm.chains import create_narrative_generator_chain, create_subnarrative_generator_chain"
   ]
  },
  {
   "cell_type": "code",
   "execution_count": null,
   "id": "f1c27288",
   "metadata": {},
   "outputs": [],
   "source": [
    "from src.data_management.label_parser import parse_json_for_narratives_subnarratives\n",
    "import pandas as pd\n",
    "\n",
    "print(\"--- Updating label formats in source CSVs ---\")\n",
    "\n",
    "# --- Load data for augmentation ---\n",
    "print(\"\\n--- Loading data for augmentation ---\")\n",
    "\n",
    "print(\"Loading target narratives...\")\n",
    "target_narratives_df = pd.read_csv(\"least_perf_narratives.csv\")\n",
    "\n",
    "print(\"Loading target subnarratives...\")\n",
    "target_subnarratives_df = pd.read_csv(\"least_perf_subnarratives.csv\")\n",
    "\n",
    "target_narratives_list = target_narratives_df['label'].tolist()\n",
    "target_subnarratives_list = target_subnarratives_df['label'].tolist()\n",
    "\n",
    "narrative_definitions_df = pd.read_csv(\"data/narrative_definitions.csv\")\n",
    "subnarrative_definitions_df = pd.read_csv(\"data/subnarrative_definitions.csv\")\n",
    "\n",
    "print(\"Data loaded.\")\n",
    "\n"
   ]
  },
  {
   "cell_type": "code",
   "execution_count": null,
   "id": "64f37381",
   "metadata": {
    "vscode": {
     "languageId": "ruby"
    }
   },
   "outputs": [],
   "source": [
    "target_narratives_df['definition'] = target_narratives_df['label'].apply(\n",
    "    lambda x: narrative_definitions_df[narrative_definitions_df['narrative'] == x]['definition'].values[0] if x in narrative_definitions_df['narrative'].values else None\n",
    ")\n",
    "\n",
    "target_narratives_df['examples'] = target_narratives_df['label'].apply(\n",
    "    lambda x: narrative_definitions_df[narrative_definitions_df['narrative'] == x]['example'].values[0] if x in narrative_definitions_df['narrative'].values else None\n",
    ")\n",
    "\n",
    "target_subnarratives_df['definition'] = target_subnarratives_df['label'].apply(\n",
    "    lambda x: subnarrative_definitions_df[subnarrative_definitions_df['subnarrative'] == x]['definition'].values[0] if x in subnarrative_definitions_df['subnarrative'].values else None\n",
    ")\n",
    "\n",
    "target_subnarratives_df['examples'] = target_subnarratives_df['label'].apply(\n",
    "    lambda x: subnarrative_definitions_df[subnarrative_definitions_df['subnarrative'] == x]['examples'].values[0] if x in subnarrative_definitions_df['subnarrative'].values else None\n",
    ")"
   ]
  },
  {
   "cell_type": "code",
   "execution_count": null,
   "id": "63d51812",
   "metadata": {
    "vscode": {
     "languageId": "ruby"
    }
   },
   "outputs": [],
   "source": [
    "NUM_EXAMPLES_PER_LABEL = 5\n",
    "\n",
    "narrative_generator = create_narrative_generator_chain()\n",
    "subnarrative_generator = create_subnarrative_generator_chain()"
   ]
  },
  {
   "cell_type": "code",
   "execution_count": null,
   "id": "b5a4e306",
   "metadata": {},
   "outputs": [],
   "source": [
    "# from tqdm.auto import tqdm\n",
    "\n",
    "# generated_narrative_texts = []\n",
    "\n",
    "# for idx, row in tqdm(target_narratives_df.iterrows(), total=len(target_narratives_df)):\n",
    "#     print(f\"Generating narratives for label: {row['label']}\")\n",
    "#     texts = []\n",
    "#     # Prepare input for the generator\n",
    "#     input_dict = {\n",
    "#         \"narrative_name\": row['label'],\n",
    "#         \"narrative_def\": row['definition'],\n",
    "#         \"num_examples\": NUM_EXAMPLES_PER_LABEL,\n",
    "#         \"narrative_example\": row['examples'] if pd.notnull(row['examples']) else \"\",\n",
    "#         \"format_instructions\": \"Return only the generated text as a string.\"\n",
    "#     }\n",
    "    \n",
    "#     result = narrative_generator.invoke(input_dict)\n",
    "#     # Extract the generated text from the result\n",
    "#     articles = result.articles  # Access the articles from the Pydantic object\n",
    "#     texts = [article.generated_text for article in articles]  # Extract the generated text from each article\n",
    "#     generated_narrative_texts.append(texts)\n",
    "\n",
    "# # Add the generated texts to the DataFrame\n",
    "# target_narratives_df['generated_texts'] = generated_narrative_texts\n",
    "\n"
   ]
  },
  {
   "cell_type": "code",
   "execution_count": null,
   "id": "4c90f1ed",
   "metadata": {},
   "outputs": [],
   "source": [
    "# # Prepare data for JSON export\n",
    "# narrative_texts_json = []\n",
    "# for i, row in target_narratives_df.iterrows():\n",
    "#     narrative_texts_json.append({\n",
    "#         \"narrative\": row[\"label\"],\n",
    "#         \"generated_texts\": row[\"generated_texts\"]\n",
    "#     })\n",
    "\n",
    "# # Save to file\n",
    "# with open(\"generated_narrative_texts.json\", \"w\", encoding=\"utf-8\") as f:\n",
    "#     json.dump(narrative_texts_json, f, ensure_ascii=False, indent=2)"
   ]
  },
  {
   "cell_type": "code",
   "execution_count": null,
   "id": "e02fb54d",
   "metadata": {},
   "outputs": [],
   "source": [
    "# from tqdm.auto import tqdm\n",
    "# generated_subnarrative_texts = []\n",
    "\n",
    "# for idx, row in tqdm(target_subnarratives_df.iterrows(), total=len(target_subnarratives_df)):\n",
    "#     print(f\"Generating subnarratives for label: {row['label']}\")\n",
    "#     texts = []\n",
    "#     # Prepare input for the generator\n",
    "#     input_dict = {\n",
    "#         \"subnarrative_name\": row['label'],\n",
    "#         \"subnarrative_def\": row['definition'],\n",
    "#         \"num_examples\": NUM_EXAMPLES_PER_LABEL,\n",
    "#         \"subnarrative_example\": row['examples'] if pd.notnull(row['examples']) else \"\",\n",
    "#         \"format_instructions\": \"Return only the generated text as a string.\"\n",
    "#     }\n",
    "    \n",
    "#     result = subnarrative_generator.invoke(input_dict)\n",
    "#     # Extract the generated text from the result\n",
    "#     articles = result.articles  # Access the articles from the Pydantic object\n",
    "#     texts = [article.generated_text for article in articles]  # Extract the generated text from each article\n",
    "#     generated_subnarrative_texts.append(texts)\n",
    "    \n",
    "# # Add the generated texts to the DataFrame\n",
    "# target_subnarratives_df['generated_texts'] = generated_subnarrative_texts\n",
    "\n",
    "# # Prepare data for JSON export\n",
    "# subnarrative_texts_json = []\n",
    "# for i, row in target_subnarratives_df.iterrows():\n",
    "#     subnarrative_texts_json.append({\n",
    "#         \"subnarrative\": row[\"label\"],\n",
    "#         \"generated_texts\": row[\"generated_texts\"]\n",
    "#     })\n",
    "# # Save to file\n",
    "# with open(\"generated_subnarrative_texts.json\", \"w\", encoding=\"utf-8\") as f:\n",
    "#     json.dump(subnarrative_texts_json, f, ensure_ascii=False, indent=2)"
   ]
  }
 ],
 "metadata": {
  "kernelspec": {
   "display_name": ".venv",
   "language": "python",
   "name": "python3"
  },
  "language_info": {
   "codemirror_mode": {
    "name": "ipython",
    "version": 3
   },
   "file_extension": ".py",
   "mimetype": "text/x-python",
   "name": "python",
   "nbconvert_exporter": "python",
   "pygments_lexer": "ipython3",
   "version": "3.12.3"
  }
 },
 "nbformat": 4,
 "nbformat_minor": 5
}
